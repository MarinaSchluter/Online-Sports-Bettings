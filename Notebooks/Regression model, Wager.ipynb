{
 "cells": [
  {
   "cell_type": "code",
   "execution_count": 2,
   "metadata": {},
   "outputs": [],
   "source": [
    "import pandas as pd\n",
    "import plotly.express as px"
   ]
  },
  {
   "cell_type": "markdown",
   "metadata": {},
   "source": [
    "## Row Data, without applying Normalisation and removing Outliers"
   ]
  },
  {
   "cell_type": "markdown",
   "metadata": {},
   "source": [
    "### csv uploads"
   ]
  },
  {
   "cell_type": "code",
   "execution_count": 3,
   "metadata": {},
   "outputs": [
    {
     "data": {
      "text/html": [
       "<div>\n",
       "<style scoped>\n",
       "    .dataframe tbody tr th:only-of-type {\n",
       "        vertical-align: middle;\n",
       "    }\n",
       "\n",
       "    .dataframe tbody tr th {\n",
       "        vertical-align: top;\n",
       "    }\n",
       "\n",
       "    .dataframe thead th {\n",
       "        text-align: right;\n",
       "    }\n",
       "</style>\n",
       "<table border=\"1\" class=\"dataframe\">\n",
       "  <thead>\n",
       "    <tr style=\"text-align: right;\">\n",
       "      <th></th>\n",
       "      <th>Sport</th>\n",
       "      <th>Wager</th>\n",
       "      <th>Paid</th>\n",
       "      <th>Winnings</th>\n",
       "      <th>Hold</th>\n",
       "      <th>Purchase_Time</th>\n",
       "      <th>Competition</th>\n",
       "      <th>Event</th>\n",
       "      <th>Event_Date</th>\n",
       "      <th>Gender_Competition</th>\n",
       "      <th>Sport_Group</th>\n",
       "      <th>Month</th>\n",
       "      <th>Day_of_Week</th>\n",
       "      <th>Sport_encoded</th>\n",
       "      <th>Purchase_Time_encoded</th>\n",
       "      <th>Competition_encoded</th>\n",
       "      <th>Event_encoded</th>\n",
       "      <th>Sport_Group_encoded</th>\n",
       "    </tr>\n",
       "  </thead>\n",
       "  <tbody>\n",
       "    <tr>\n",
       "      <th>0</th>\n",
       "      <td>Basketball</td>\n",
       "      <td>1.00</td>\n",
       "      <td>0.0</td>\n",
       "      <td>1.00</td>\n",
       "      <td>1.0</td>\n",
       "      <td>Prematch</td>\n",
       "      <td>Germany Bundesliga</td>\n",
       "      <td>Alba Berlín - BG Gottingen</td>\n",
       "      <td>2024-02-13</td>\n",
       "      <td>Male</td>\n",
       "      <td>Basketball</td>\n",
       "      <td>2</td>\n",
       "      <td>1</td>\n",
       "      <td>3</td>\n",
       "      <td>1</td>\n",
       "      <td>504</td>\n",
       "      <td>1186</td>\n",
       "      <td>0</td>\n",
       "    </tr>\n",
       "    <tr>\n",
       "      <th>1</th>\n",
       "      <td>Basketball</td>\n",
       "      <td>42.52</td>\n",
       "      <td>0.0</td>\n",
       "      <td>42.52</td>\n",
       "      <td>1.0</td>\n",
       "      <td>Prematch</td>\n",
       "      <td>Germany Bundesliga</td>\n",
       "      <td>Alba Berlín - EWE Baskets Oldenburg</td>\n",
       "      <td>2024-03-03</td>\n",
       "      <td>Male</td>\n",
       "      <td>Basketball</td>\n",
       "      <td>3</td>\n",
       "      <td>6</td>\n",
       "      <td>3</td>\n",
       "      <td>1</td>\n",
       "      <td>504</td>\n",
       "      <td>1188</td>\n",
       "      <td>0</td>\n",
       "    </tr>\n",
       "  </tbody>\n",
       "</table>\n",
       "</div>"
      ],
      "text/plain": [
       "        Sport  Wager  Paid  Winnings  Hold Purchase_Time         Competition  \\\n",
       "0  Basketball   1.00   0.0      1.00   1.0      Prematch  Germany Bundesliga   \n",
       "1  Basketball  42.52   0.0     42.52   1.0      Prematch  Germany Bundesliga   \n",
       "\n",
       "                                 Event  Event_Date Gender_Competition  \\\n",
       "0           Alba Berlín - BG Gottingen  2024-02-13               Male   \n",
       "1  Alba Berlín - EWE Baskets Oldenburg  2024-03-03               Male   \n",
       "\n",
       "  Sport_Group  Month  Day_of_Week  Sport_encoded  Purchase_Time_encoded  \\\n",
       "0  Basketball      2            1              3                      1   \n",
       "1  Basketball      3            6              3                      1   \n",
       "\n",
       "   Competition_encoded  Event_encoded  Sport_Group_encoded  \n",
       "0                  504           1186                    0  \n",
       "1                  504           1188                    0  "
      ]
     },
     "execution_count": 3,
     "metadata": {},
     "output_type": "execute_result"
    }
   ],
   "source": [
    "mysportsbetting=pd.read_csv(\"Data\\mysportsbetting.csv\")                    # .csv upload\n",
    "mysportsbetting.head(2)"
   ]
  },
  {
   "cell_type": "markdown",
   "metadata": {},
   "source": [
    "### Correlation overview"
   ]
  },
  {
   "cell_type": "code",
   "execution_count": 4,
   "metadata": {},
   "outputs": [
    {
     "name": "stderr",
     "output_type": "stream",
     "text": [
      "C:\\Users\\mayin\\AppData\\Local\\Temp\\ipykernel_12884\\1574180648.py:1: FutureWarning: The default value of numeric_only in DataFrame.corr is deprecated. In a future version, it will default to False. Select only valid columns or specify the value of numeric_only to silence this warning.\n",
      "  px.imshow(mysportsbetting.corr(\"spearman\").round(2), text_auto=True, title=\"Spearman Correlation between numerical variables\",\n"
     ]
    },
    {
     "data": {
      "application/vnd.plotly.v1+json": {
       "config": {
        "plotlyServerURL": "https://plot.ly"
       },
       "data": [
        {
         "coloraxis": "coloraxis",
         "hovertemplate": "x: %{x}<br>y: %{y}<br>color: %{z}<extra></extra>",
         "name": "0",
         "texttemplate": "%{z}",
         "type": "heatmap",
         "x": [
          "Wager",
          "Paid",
          "Winnings",
          "Hold",
          "Month",
          "Day_of_Week",
          "Sport_encoded",
          "Purchase_Time_encoded",
          "Competition_encoded",
          "Event_encoded",
          "Sport_Group_encoded"
         ],
         "xaxis": "x",
         "y": [
          "Wager",
          "Paid",
          "Winnings",
          "Hold",
          "Month",
          "Day_of_Week",
          "Sport_encoded",
          "Purchase_Time_encoded",
          "Competition_encoded",
          "Event_encoded",
          "Sport_Group_encoded"
         ],
         "yaxis": "y",
         "z": [
          [
           1,
           0.37,
           0.5,
           -0.25,
           -0.06,
           -0.09,
           0.01,
           -0.17,
           0.05,
           0.02,
           0.03
          ],
          [
           0.37,
           1,
           -0.45,
           -0.97,
           -0.02,
           -0.01,
           -0.01,
           -0.03,
           0.02,
           0,
           0
          ],
          [
           0.5,
           -0.45,
           1,
           0.52,
           -0.02,
           -0.05,
           0.01,
           -0.08,
           0.04,
           0.02,
           0.01
          ],
          [
           -0.25,
           -0.97,
           0.52,
           1,
           0.01,
           0,
           0.01,
           -0.02,
           0,
           0,
           0
          ],
          [
           -0.06,
           -0.02,
           -0.02,
           0.01,
           1,
           0.08,
           0.01,
           0.01,
           0.01,
           0.01,
           0
          ],
          [
           -0.09,
           -0.01,
           -0.05,
           0,
           0.08,
           1,
           -0.1,
           0.06,
           0.15,
           0.03,
           -0.1
          ],
          [
           0.01,
           -0.01,
           0.01,
           0.01,
           0.01,
           -0.1,
           1,
           0.11,
           -0.23,
           0.06,
           0.95
          ],
          [
           -0.17,
           -0.03,
           -0.08,
           -0.02,
           0.01,
           0.06,
           0.11,
           1,
           -0.05,
           0.04,
           0.11
          ],
          [
           0.05,
           0.02,
           0.04,
           0,
           0.01,
           0.15,
           -0.23,
           -0.05,
           1,
           0,
           -0.21
          ],
          [
           0.02,
           0,
           0.02,
           0,
           0.01,
           0.03,
           0.06,
           0.04,
           0,
           1,
           0.06
          ],
          [
           0.03,
           0,
           0.01,
           0,
           0,
           -0.1,
           0.95,
           0.11,
           -0.21,
           0.06,
           1
          ]
         ]
        }
       ],
       "layout": {
        "coloraxis": {
         "colorscale": [
          [
           0,
           "rgb(5,48,97)"
          ],
          [
           0.1,
           "rgb(33,102,172)"
          ],
          [
           0.2,
           "rgb(67,147,195)"
          ],
          [
           0.3,
           "rgb(146,197,222)"
          ],
          [
           0.4,
           "rgb(209,229,240)"
          ],
          [
           0.5,
           "rgb(247,247,247)"
          ],
          [
           0.6,
           "rgb(253,219,199)"
          ],
          [
           0.7,
           "rgb(244,165,130)"
          ],
          [
           0.8,
           "rgb(214,96,77)"
          ],
          [
           0.9,
           "rgb(178,24,43)"
          ],
          [
           1,
           "rgb(103,0,31)"
          ]
         ]
        },
        "height": 600,
        "template": {
         "data": {
          "bar": [
           {
            "error_x": {
             "color": "#f2f5fa"
            },
            "error_y": {
             "color": "#f2f5fa"
            },
            "marker": {
             "line": {
              "color": "rgb(17,17,17)",
              "width": 0.5
             },
             "pattern": {
              "fillmode": "overlay",
              "size": 10,
              "solidity": 0.2
             }
            },
            "type": "bar"
           }
          ],
          "barpolar": [
           {
            "marker": {
             "line": {
              "color": "rgb(17,17,17)",
              "width": 0.5
             },
             "pattern": {
              "fillmode": "overlay",
              "size": 10,
              "solidity": 0.2
             }
            },
            "type": "barpolar"
           }
          ],
          "carpet": [
           {
            "aaxis": {
             "endlinecolor": "#A2B1C6",
             "gridcolor": "#506784",
             "linecolor": "#506784",
             "minorgridcolor": "#506784",
             "startlinecolor": "#A2B1C6"
            },
            "baxis": {
             "endlinecolor": "#A2B1C6",
             "gridcolor": "#506784",
             "linecolor": "#506784",
             "minorgridcolor": "#506784",
             "startlinecolor": "#A2B1C6"
            },
            "type": "carpet"
           }
          ],
          "choropleth": [
           {
            "colorbar": {
             "outlinewidth": 0,
             "ticks": ""
            },
            "type": "choropleth"
           }
          ],
          "contour": [
           {
            "colorbar": {
             "outlinewidth": 0,
             "ticks": ""
            },
            "colorscale": [
             [
              0,
              "#0d0887"
             ],
             [
              0.1111111111111111,
              "#46039f"
             ],
             [
              0.2222222222222222,
              "#7201a8"
             ],
             [
              0.3333333333333333,
              "#9c179e"
             ],
             [
              0.4444444444444444,
              "#bd3786"
             ],
             [
              0.5555555555555556,
              "#d8576b"
             ],
             [
              0.6666666666666666,
              "#ed7953"
             ],
             [
              0.7777777777777778,
              "#fb9f3a"
             ],
             [
              0.8888888888888888,
              "#fdca26"
             ],
             [
              1,
              "#f0f921"
             ]
            ],
            "type": "contour"
           }
          ],
          "contourcarpet": [
           {
            "colorbar": {
             "outlinewidth": 0,
             "ticks": ""
            },
            "type": "contourcarpet"
           }
          ],
          "heatmap": [
           {
            "colorbar": {
             "outlinewidth": 0,
             "ticks": ""
            },
            "colorscale": [
             [
              0,
              "#0d0887"
             ],
             [
              0.1111111111111111,
              "#46039f"
             ],
             [
              0.2222222222222222,
              "#7201a8"
             ],
             [
              0.3333333333333333,
              "#9c179e"
             ],
             [
              0.4444444444444444,
              "#bd3786"
             ],
             [
              0.5555555555555556,
              "#d8576b"
             ],
             [
              0.6666666666666666,
              "#ed7953"
             ],
             [
              0.7777777777777778,
              "#fb9f3a"
             ],
             [
              0.8888888888888888,
              "#fdca26"
             ],
             [
              1,
              "#f0f921"
             ]
            ],
            "type": "heatmap"
           }
          ],
          "heatmapgl": [
           {
            "colorbar": {
             "outlinewidth": 0,
             "ticks": ""
            },
            "colorscale": [
             [
              0,
              "#0d0887"
             ],
             [
              0.1111111111111111,
              "#46039f"
             ],
             [
              0.2222222222222222,
              "#7201a8"
             ],
             [
              0.3333333333333333,
              "#9c179e"
             ],
             [
              0.4444444444444444,
              "#bd3786"
             ],
             [
              0.5555555555555556,
              "#d8576b"
             ],
             [
              0.6666666666666666,
              "#ed7953"
             ],
             [
              0.7777777777777778,
              "#fb9f3a"
             ],
             [
              0.8888888888888888,
              "#fdca26"
             ],
             [
              1,
              "#f0f921"
             ]
            ],
            "type": "heatmapgl"
           }
          ],
          "histogram": [
           {
            "marker": {
             "pattern": {
              "fillmode": "overlay",
              "size": 10,
              "solidity": 0.2
             }
            },
            "type": "histogram"
           }
          ],
          "histogram2d": [
           {
            "colorbar": {
             "outlinewidth": 0,
             "ticks": ""
            },
            "colorscale": [
             [
              0,
              "#0d0887"
             ],
             [
              0.1111111111111111,
              "#46039f"
             ],
             [
              0.2222222222222222,
              "#7201a8"
             ],
             [
              0.3333333333333333,
              "#9c179e"
             ],
             [
              0.4444444444444444,
              "#bd3786"
             ],
             [
              0.5555555555555556,
              "#d8576b"
             ],
             [
              0.6666666666666666,
              "#ed7953"
             ],
             [
              0.7777777777777778,
              "#fb9f3a"
             ],
             [
              0.8888888888888888,
              "#fdca26"
             ],
             [
              1,
              "#f0f921"
             ]
            ],
            "type": "histogram2d"
           }
          ],
          "histogram2dcontour": [
           {
            "colorbar": {
             "outlinewidth": 0,
             "ticks": ""
            },
            "colorscale": [
             [
              0,
              "#0d0887"
             ],
             [
              0.1111111111111111,
              "#46039f"
             ],
             [
              0.2222222222222222,
              "#7201a8"
             ],
             [
              0.3333333333333333,
              "#9c179e"
             ],
             [
              0.4444444444444444,
              "#bd3786"
             ],
             [
              0.5555555555555556,
              "#d8576b"
             ],
             [
              0.6666666666666666,
              "#ed7953"
             ],
             [
              0.7777777777777778,
              "#fb9f3a"
             ],
             [
              0.8888888888888888,
              "#fdca26"
             ],
             [
              1,
              "#f0f921"
             ]
            ],
            "type": "histogram2dcontour"
           }
          ],
          "mesh3d": [
           {
            "colorbar": {
             "outlinewidth": 0,
             "ticks": ""
            },
            "type": "mesh3d"
           }
          ],
          "parcoords": [
           {
            "line": {
             "colorbar": {
              "outlinewidth": 0,
              "ticks": ""
             }
            },
            "type": "parcoords"
           }
          ],
          "pie": [
           {
            "automargin": true,
            "type": "pie"
           }
          ],
          "scatter": [
           {
            "marker": {
             "line": {
              "color": "#283442"
             }
            },
            "type": "scatter"
           }
          ],
          "scatter3d": [
           {
            "line": {
             "colorbar": {
              "outlinewidth": 0,
              "ticks": ""
             }
            },
            "marker": {
             "colorbar": {
              "outlinewidth": 0,
              "ticks": ""
             }
            },
            "type": "scatter3d"
           }
          ],
          "scattercarpet": [
           {
            "marker": {
             "colorbar": {
              "outlinewidth": 0,
              "ticks": ""
             }
            },
            "type": "scattercarpet"
           }
          ],
          "scattergeo": [
           {
            "marker": {
             "colorbar": {
              "outlinewidth": 0,
              "ticks": ""
             }
            },
            "type": "scattergeo"
           }
          ],
          "scattergl": [
           {
            "marker": {
             "line": {
              "color": "#283442"
             }
            },
            "type": "scattergl"
           }
          ],
          "scattermapbox": [
           {
            "marker": {
             "colorbar": {
              "outlinewidth": 0,
              "ticks": ""
             }
            },
            "type": "scattermapbox"
           }
          ],
          "scatterpolar": [
           {
            "marker": {
             "colorbar": {
              "outlinewidth": 0,
              "ticks": ""
             }
            },
            "type": "scatterpolar"
           }
          ],
          "scatterpolargl": [
           {
            "marker": {
             "colorbar": {
              "outlinewidth": 0,
              "ticks": ""
             }
            },
            "type": "scatterpolargl"
           }
          ],
          "scatterternary": [
           {
            "marker": {
             "colorbar": {
              "outlinewidth": 0,
              "ticks": ""
             }
            },
            "type": "scatterternary"
           }
          ],
          "surface": [
           {
            "colorbar": {
             "outlinewidth": 0,
             "ticks": ""
            },
            "colorscale": [
             [
              0,
              "#0d0887"
             ],
             [
              0.1111111111111111,
              "#46039f"
             ],
             [
              0.2222222222222222,
              "#7201a8"
             ],
             [
              0.3333333333333333,
              "#9c179e"
             ],
             [
              0.4444444444444444,
              "#bd3786"
             ],
             [
              0.5555555555555556,
              "#d8576b"
             ],
             [
              0.6666666666666666,
              "#ed7953"
             ],
             [
              0.7777777777777778,
              "#fb9f3a"
             ],
             [
              0.8888888888888888,
              "#fdca26"
             ],
             [
              1,
              "#f0f921"
             ]
            ],
            "type": "surface"
           }
          ],
          "table": [
           {
            "cells": {
             "fill": {
              "color": "#506784"
             },
             "line": {
              "color": "rgb(17,17,17)"
             }
            },
            "header": {
             "fill": {
              "color": "#2a3f5f"
             },
             "line": {
              "color": "rgb(17,17,17)"
             }
            },
            "type": "table"
           }
          ]
         },
         "layout": {
          "annotationdefaults": {
           "arrowcolor": "#f2f5fa",
           "arrowhead": 0,
           "arrowwidth": 1
          },
          "autotypenumbers": "strict",
          "coloraxis": {
           "colorbar": {
            "outlinewidth": 0,
            "ticks": ""
           }
          },
          "colorscale": {
           "diverging": [
            [
             0,
             "#8e0152"
            ],
            [
             0.1,
             "#c51b7d"
            ],
            [
             0.2,
             "#de77ae"
            ],
            [
             0.3,
             "#f1b6da"
            ],
            [
             0.4,
             "#fde0ef"
            ],
            [
             0.5,
             "#f7f7f7"
            ],
            [
             0.6,
             "#e6f5d0"
            ],
            [
             0.7,
             "#b8e186"
            ],
            [
             0.8,
             "#7fbc41"
            ],
            [
             0.9,
             "#4d9221"
            ],
            [
             1,
             "#276419"
            ]
           ],
           "sequential": [
            [
             0,
             "#0d0887"
            ],
            [
             0.1111111111111111,
             "#46039f"
            ],
            [
             0.2222222222222222,
             "#7201a8"
            ],
            [
             0.3333333333333333,
             "#9c179e"
            ],
            [
             0.4444444444444444,
             "#bd3786"
            ],
            [
             0.5555555555555556,
             "#d8576b"
            ],
            [
             0.6666666666666666,
             "#ed7953"
            ],
            [
             0.7777777777777778,
             "#fb9f3a"
            ],
            [
             0.8888888888888888,
             "#fdca26"
            ],
            [
             1,
             "#f0f921"
            ]
           ],
           "sequentialminus": [
            [
             0,
             "#0d0887"
            ],
            [
             0.1111111111111111,
             "#46039f"
            ],
            [
             0.2222222222222222,
             "#7201a8"
            ],
            [
             0.3333333333333333,
             "#9c179e"
            ],
            [
             0.4444444444444444,
             "#bd3786"
            ],
            [
             0.5555555555555556,
             "#d8576b"
            ],
            [
             0.6666666666666666,
             "#ed7953"
            ],
            [
             0.7777777777777778,
             "#fb9f3a"
            ],
            [
             0.8888888888888888,
             "#fdca26"
            ],
            [
             1,
             "#f0f921"
            ]
           ]
          },
          "colorway": [
           "#636efa",
           "#EF553B",
           "#00cc96",
           "#ab63fa",
           "#FFA15A",
           "#19d3f3",
           "#FF6692",
           "#B6E880",
           "#FF97FF",
           "#FECB52"
          ],
          "font": {
           "color": "#f2f5fa"
          },
          "geo": {
           "bgcolor": "rgb(17,17,17)",
           "lakecolor": "rgb(17,17,17)",
           "landcolor": "rgb(17,17,17)",
           "showlakes": true,
           "showland": true,
           "subunitcolor": "#506784"
          },
          "hoverlabel": {
           "align": "left"
          },
          "hovermode": "closest",
          "mapbox": {
           "style": "dark"
          },
          "paper_bgcolor": "rgb(17,17,17)",
          "plot_bgcolor": "rgb(17,17,17)",
          "polar": {
           "angularaxis": {
            "gridcolor": "#506784",
            "linecolor": "#506784",
            "ticks": ""
           },
           "bgcolor": "rgb(17,17,17)",
           "radialaxis": {
            "gridcolor": "#506784",
            "linecolor": "#506784",
            "ticks": ""
           }
          },
          "scene": {
           "xaxis": {
            "backgroundcolor": "rgb(17,17,17)",
            "gridcolor": "#506784",
            "gridwidth": 2,
            "linecolor": "#506784",
            "showbackground": true,
            "ticks": "",
            "zerolinecolor": "#C8D4E3"
           },
           "yaxis": {
            "backgroundcolor": "rgb(17,17,17)",
            "gridcolor": "#506784",
            "gridwidth": 2,
            "linecolor": "#506784",
            "showbackground": true,
            "ticks": "",
            "zerolinecolor": "#C8D4E3"
           },
           "zaxis": {
            "backgroundcolor": "rgb(17,17,17)",
            "gridcolor": "#506784",
            "gridwidth": 2,
            "linecolor": "#506784",
            "showbackground": true,
            "ticks": "",
            "zerolinecolor": "#C8D4E3"
           }
          },
          "shapedefaults": {
           "line": {
            "color": "#f2f5fa"
           }
          },
          "sliderdefaults": {
           "bgcolor": "#C8D4E3",
           "bordercolor": "rgb(17,17,17)",
           "borderwidth": 1,
           "tickwidth": 0
          },
          "ternary": {
           "aaxis": {
            "gridcolor": "#506784",
            "linecolor": "#506784",
            "ticks": ""
           },
           "baxis": {
            "gridcolor": "#506784",
            "linecolor": "#506784",
            "ticks": ""
           },
           "bgcolor": "rgb(17,17,17)",
           "caxis": {
            "gridcolor": "#506784",
            "linecolor": "#506784",
            "ticks": ""
           }
          },
          "title": {
           "x": 0.05
          },
          "updatemenudefaults": {
           "bgcolor": "#506784",
           "borderwidth": 0
          },
          "xaxis": {
           "automargin": true,
           "gridcolor": "#283442",
           "linecolor": "#506784",
           "ticks": "",
           "title": {
            "standoff": 15
           },
           "zerolinecolor": "#283442",
           "zerolinewidth": 2
          },
          "yaxis": {
           "automargin": true,
           "gridcolor": "#283442",
           "linecolor": "#506784",
           "ticks": "",
           "title": {
            "standoff": 15
           },
           "zerolinecolor": "#283442",
           "zerolinewidth": 2
          }
         }
        },
        "title": {
         "text": "Spearman Correlation between numerical variables"
        },
        "width": 900,
        "xaxis": {
         "anchor": "y",
         "constrain": "domain",
         "domain": [
          0,
          1
         ],
         "scaleanchor": "y"
        },
        "yaxis": {
         "anchor": "x",
         "autorange": "reversed",
         "constrain": "domain",
         "domain": [
          0,
          1
         ]
        }
       }
      }
     },
     "metadata": {},
     "output_type": "display_data"
    }
   ],
   "source": [
    "px.imshow(mysportsbetting.corr(\"spearman\").round(2), text_auto=True, title=\"Spearman Correlation between numerical variables\", \n",
    "          template=\"plotly_dark\", color_continuous_scale=\"RdBu_r\", width=900, height=600)"
   ]
  },
  {
   "cell_type": "markdown",
   "metadata": {},
   "source": [
    "### Models"
   ]
  },
  {
   "cell_type": "code",
   "execution_count": 5,
   "metadata": {},
   "outputs": [
    {
     "name": "stdout",
     "output_type": "stream",
     "text": [
      "Model: LinearRegression\n",
      "Mean Squared Error (MSE): 39551.43246366722\n",
      "R^2 Score: 9.885150106803131e-06\n",
      "\n",
      "Model: SVR\n",
      "Mean Squared Error (MSE): 40944.21833310401\n",
      "R^2 Score: -0.03520431607557151\n",
      "\n",
      "Model: Ridge\n",
      "Mean Squared Error (MSE): 39551.42743882698\n",
      "R^2 Score: 1.0012194571529243e-05\n",
      "\n",
      "Model: Lasso\n",
      "Mean Squared Error (MSE): 39542.78042142279\n",
      "R^2 Score: 0.00022863719469190524\n",
      "\n",
      "Model: ElasticNet\n",
      "Mean Squared Error (MSE): 39529.64151173657\n",
      "R^2 Score: 0.0005608319848096066\n",
      "\n",
      "Model: RandomForestRegressor\n",
      "Mean Squared Error (MSE): 39320.13519517283\n",
      "R^2 Score: 0.0058578397671398275\n",
      "\n",
      "Model: GradientBoostingRegressor\n",
      "Mean Squared Error (MSE): 40161.25992145198\n",
      "R^2 Score: -0.015408555891415432\n",
      "\n",
      "Model: Pipeline\n",
      "Mean Squared Error (MSE): 39295.53897482825\n",
      "R^2 Score: 0.0064797130009308646\n",
      "\n"
     ]
    }
   ],
   "source": [
    "from sklearn.model_selection import train_test_split\n",
    "from sklearn.linear_model import LinearRegression, Ridge, Lasso, ElasticNet\n",
    "from sklearn.ensemble import RandomForestRegressor, GradientBoostingRegressor\n",
    "from sklearn.preprocessing import PolynomialFeatures, StandardScaler\n",
    "from sklearn.svm import SVR\n",
    "from sklearn.pipeline import make_pipeline\n",
    "from sklearn.metrics import mean_squared_error, r2_score\n",
    "\n",
    "selected_columns=mysportsbetting[[\"Wager\",\"Purchase_Time_encoded\",\"Sport_Group_encoded\"]]        #Selected columns for the model from mysportsbetting \n",
    "\n",
    "X = selected_columns.drop(columns=[\"Wager\"])                                                             #Winnings is the object variable and will be \"y\"\n",
    "y = selected_columns[\"Wager\"]\n",
    "\n",
    "# Dividir los datos en conjuntos de entrenamiento y prueba\n",
    "X_train, X_test, y_train, y_test = train_test_split(X, y, test_size=0.2, random_state=42)                   #Division between train(80%) and test(20%)\n",
    "\n",
    "scaler = StandardScaler()                                                                                   #Scaler for models Ridge, Lasso, ElasticNet and PolinomialFeatures\n",
    "X_train_scaled = scaler.fit_transform(X_train)\n",
    "X_test_scaled = scaler.transform(X_test)\n",
    "\n",
    "models = [                                                                                                  #Models list to apply\n",
    "    LinearRegression(),\n",
    "    SVR(),\n",
    "    Ridge(),\n",
    "    Lasso(),\n",
    "    ElasticNet(),\n",
    "    RandomForestRegressor(),\n",
    "    GradientBoostingRegressor(n_estimators=300, learning_rate=0.05, max_depth=4, max_features='sqrt', min_samples_leaf=15, min_samples_split=10, loss='huber', random_state =5),\n",
    "    make_pipeline(StandardScaler(), PolynomialFeatures(degree=2), LinearRegression())\n",
    "]\n",
    "\n",
    "model_names = []\n",
    "mse_values = []\n",
    "r2_values = []\n",
    "\n",
    "for model in models:                                                                                        #Train and evaluate models from the list\n",
    "    model.fit(X_train_scaled, y_train)                                                                        #Adjust the model\n",
    "    y_pred = model.predict(X_test_scaled)                                                                     #Predictions\n",
    "    mse = mean_squared_error(y_test, y_pred)                                                                  #Calculate the squared error     \n",
    "    r2 = r2_score(y_test, y_pred)                                                                             #Calculate the coefficient of determination\n",
    "    \n",
    "    model_names.append(type(model).__name__)\n",
    "    mse_values.append(mse)\n",
    "    r2_values.append(r2)\n",
    "    \n",
    "    print(f\"Model: {type(model).__name__}\")                                                                   #Print results                                                                       \n",
    "    print(f\"Mean Squared Error (MSE): {mse}\")\n",
    "    print(f\"R^2 Score: {r2}\")\n",
    "    print()"
   ]
  },
  {
   "cell_type": "code",
   "execution_count": 6,
   "metadata": {},
   "outputs": [
    {
     "data": {
      "image/png": "[encoded data removed]",
      "text/plain": [
       "<Figure size 1000x600 with 1 Axes>"
      ]
     },
     "metadata": {},
     "output_type": "display_data"
    },
    {
     "data": {
      "image/png": "[encoded data removed]",
      "text/plain": [
       "<Figure size 1000x600 with 1 Axes>"
      ]
     },
     "metadata": {},
     "output_type": "display_data"
    }
   ],
   "source": [
    "import matplotlib.pyplot as plt\n",
    "\n",
    "# Gráfico para Mean Squared Error (MSE)\n",
    "plt.figure(figsize=(10, 6))\n",
    "plt.scatter(model_names, mse_values)\n",
    "plt.ylabel('Mean Squared Error (MSE)')\n",
    "plt.xlabel('Modelo')\n",
    "plt.title('Comparación de MSE entre modelos')\n",
    "plt.xticks(rotation=45, ha='right')\n",
    "plt.show()\n",
    "\n",
    "# Gráfico para R^2 Score\n",
    "plt.figure(figsize=(10, 6))\n",
    "plt.scatter(model_names, r2_values)\n",
    "plt.ylabel('R^2 Score')\n",
    "plt.xlabel('Modelo')\n",
    "plt.title('Comparación de R^2 entre modelos')\n",
    "plt.xticks(rotation=45, ha='right')\n",
    "plt.show()"
   ]
  },
  {
   "cell_type": "code",
   "execution_count": 7,
   "metadata": {},
   "outputs": [
    {
     "data": {
      "image/png": "[encoded data removed]",
      "text/plain": [
       "<Figure size 1800x600 with 2 Axes>"
      ]
     },
     "metadata": {},
     "output_type": "display_data"
    }
   ],
   "source": [
    "import matplotlib.pyplot as plt\n",
    "\n",
    "# Crear subplots\n",
    "fig, axs = plt.subplots(1, 2, figsize=(18, 6))\n",
    "\n",
    "# Gráfico para Mean Squared Error (MSE)\n",
    "axs[0].scatter(model_names, mse_values, color='blue')\n",
    "axs[0].set_ylabel('Mean Squared Error (MSE)')\n",
    "axs[0].set_xlabel('Modelo')\n",
    "axs[0].set_title('Comparación de MSE entre modelos')\n",
    "\n",
    "\n",
    "# Gráfico para R^2 Score\n",
    "axs[1].scatter(model_names, r2_values, color='green')\n",
    "axs[1].set_ylabel('R^2 Score')\n",
    "axs[1].set_xlabel('Modelo')\n",
    "axs[1].set_title('Comparación de R^2 entre modelos')\n",
    "\n",
    "\n",
    "plt.tight_layout()\n",
    "plt.show()"
   ]
  },
  {
   "cell_type": "markdown",
   "metadata": {},
   "source": [
    "el MSE es bastante alto, lo que indica que el modelo tiene un error cuadrático medio considerablemente grande. Además, el R^2 Score es negativo, lo que sugiere que el modelo no se ajusta bien a los datos y es probable que esté teniendo un desempeño deficiente en la tarea de predicción. Es posible que se necesite explorar modelos más complejos o realizar más ajustes en los datos para mejorar el rendimiento del modelo."
   ]
  },
  {
   "cell_type": "markdown",
   "metadata": {},
   "source": [
    "## Cleaned Data, applying Normalisation and removing Outliers"
   ]
  },
  {
   "cell_type": "markdown",
   "metadata": {},
   "source": [
    "### csv upload"
   ]
  },
  {
   "cell_type": "code",
   "execution_count": 8,
   "metadata": {},
   "outputs": [
    {
     "data": {
      "text/html": [
       "<div>\n",
       "<style scoped>\n",
       "    .dataframe tbody tr th:only-of-type {\n",
       "        vertical-align: middle;\n",
       "    }\n",
       "\n",
       "    .dataframe tbody tr th {\n",
       "        vertical-align: top;\n",
       "    }\n",
       "\n",
       "    .dataframe thead th {\n",
       "        text-align: right;\n",
       "    }\n",
       "</style>\n",
       "<table border=\"1\" class=\"dataframe\">\n",
       "  <thead>\n",
       "    <tr style=\"text-align: right;\">\n",
       "      <th></th>\n",
       "      <th>Sport</th>\n",
       "      <th>Wager</th>\n",
       "      <th>Paid</th>\n",
       "      <th>Winnings</th>\n",
       "      <th>Hold</th>\n",
       "      <th>Purchase_Time</th>\n",
       "      <th>Competition</th>\n",
       "      <th>Event</th>\n",
       "      <th>Event_Date</th>\n",
       "      <th>Gender_Competition</th>\n",
       "      <th>Sport_Group</th>\n",
       "      <th>Month</th>\n",
       "      <th>Day_of_Week</th>\n",
       "      <th>Sport_encoded</th>\n",
       "      <th>Purchase_Time_encoded</th>\n",
       "      <th>Competition_encoded</th>\n",
       "      <th>Event_encoded</th>\n",
       "      <th>Sport_Group_encoded</th>\n",
       "    </tr>\n",
       "  </thead>\n",
       "  <tbody>\n",
       "    <tr>\n",
       "      <th>0</th>\n",
       "      <td>Basketball</td>\n",
       "      <td>-0.101985</td>\n",
       "      <td>0.0</td>\n",
       "      <td>-0.012107</td>\n",
       "      <td>0.0</td>\n",
       "      <td>Prematch</td>\n",
       "      <td>Germany Bundesliga</td>\n",
       "      <td>Alba Berlín - BG Gottingen</td>\n",
       "      <td>2024-02-13</td>\n",
       "      <td>Male</td>\n",
       "      <td>Basketball</td>\n",
       "      <td>0.0</td>\n",
       "      <td>-1.000000</td>\n",
       "      <td>3</td>\n",
       "      <td>1</td>\n",
       "      <td>504</td>\n",
       "      <td>1186</td>\n",
       "      <td>0</td>\n",
       "    </tr>\n",
       "    <tr>\n",
       "      <th>1</th>\n",
       "      <td>Basketball</td>\n",
       "      <td>2.186880</td>\n",
       "      <td>0.0</td>\n",
       "      <td>5.014528</td>\n",
       "      <td>0.0</td>\n",
       "      <td>Prematch</td>\n",
       "      <td>Germany Bundesliga</td>\n",
       "      <td>Alba Berlín - EWE Baskets Oldenburg</td>\n",
       "      <td>2024-03-03</td>\n",
       "      <td>Male</td>\n",
       "      <td>Basketball</td>\n",
       "      <td>0.5</td>\n",
       "      <td>0.666667</td>\n",
       "      <td>3</td>\n",
       "      <td>1</td>\n",
       "      <td>504</td>\n",
       "      <td>1188</td>\n",
       "      <td>0</td>\n",
       "    </tr>\n",
       "  </tbody>\n",
       "</table>\n",
       "</div>"
      ],
      "text/plain": [
       "        Sport     Wager  Paid  Winnings  Hold Purchase_Time  \\\n",
       "0  Basketball -0.101985   0.0 -0.012107   0.0      Prematch   \n",
       "1  Basketball  2.186880   0.0  5.014528   0.0      Prematch   \n",
       "\n",
       "          Competition                                Event  Event_Date  \\\n",
       "0  Germany Bundesliga           Alba Berlín - BG Gottingen  2024-02-13   \n",
       "1  Germany Bundesliga  Alba Berlín - EWE Baskets Oldenburg  2024-03-03   \n",
       "\n",
       "  Gender_Competition Sport_Group  Month  Day_of_Week  Sport_encoded  \\\n",
       "0               Male  Basketball    0.0    -1.000000              3   \n",
       "1               Male  Basketball    0.5     0.666667              3   \n",
       "\n",
       "   Purchase_Time_encoded  Competition_encoded  Event_encoded  \\\n",
       "0                      1                  504           1186   \n",
       "1                      1                  504           1188   \n",
       "\n",
       "   Sport_Group_encoded  \n",
       "0                    0  \n",
       "1                    0  "
      ]
     },
     "execution_count": 8,
     "metadata": {},
     "output_type": "execute_result"
    }
   ],
   "source": [
    "mysportsbetting_filtered=pd.read_csv(\"Data/mysportsbetting_filtered.csv\")                    # .csv upload\n",
    "mysportsbetting_filtered.head(2)"
   ]
  },
  {
   "cell_type": "markdown",
   "metadata": {},
   "source": [
    "### Correlation overview"
   ]
  },
  {
   "cell_type": "code",
   "execution_count": 9,
   "metadata": {},
   "outputs": [
    {
     "name": "stderr",
     "output_type": "stream",
     "text": [
      "C:\\Users\\mayin\\AppData\\Local\\Temp\\ipykernel_12884\\848038763.py:1: FutureWarning:\n",
      "\n",
      "The default value of numeric_only in DataFrame.corr is deprecated. In a future version, it will default to False. Select only valid columns or specify the value of numeric_only to silence this warning.\n",
      "\n"
     ]
    },
    {
     "data": {
      "application/vnd.plotly.v1+json": {
       "config": {
        "plotlyServerURL": "https://plot.ly"
       },
       "data": [
        {
         "coloraxis": "coloraxis",
         "hovertemplate": "x: %{x}<br>y: %{y}<br>color: %{z}<extra></extra>",
         "name": "0",
         "texttemplate": "%{z}",
         "type": "heatmap",
         "x": [
          "Wager",
          "Paid",
          "Winnings",
          "Hold",
          "Month",
          "Day_of_Week",
          "Sport_encoded",
          "Purchase_Time_encoded",
          "Competition_encoded",
          "Event_encoded",
          "Sport_Group_encoded"
         ],
         "xaxis": "x",
         "y": [
          "Wager",
          "Paid",
          "Winnings",
          "Hold",
          "Month",
          "Day_of_Week",
          "Sport_encoded",
          "Purchase_Time_encoded",
          "Competition_encoded",
          "Event_encoded",
          "Sport_Group_encoded"
         ],
         "yaxis": "y",
         "z": [
          [
           1,
           0.26,
           0.69,
           -0.15,
           -0.06,
           -0.1,
           0.03,
           -0.15,
           0.04,
           0.03,
           0.04
          ],
          [
           0.26,
           1,
           -0.36,
           -0.97,
           0,
           0,
           0.01,
           0.02,
           0,
           0,
           0.01
          ],
          [
           0.69,
           -0.36,
           1,
           0.44,
           -0.04,
           -0.06,
           -0.01,
           -0.12,
           0.06,
           0.02,
           0
          ],
          [
           -0.15,
           -0.97,
           0.44,
           1,
           -0.01,
           -0.01,
           -0.01,
           -0.06,
           0.01,
           0,
           -0.01
          ],
          [
           -0.06,
           0,
           -0.04,
           -0.01,
           1,
           0.08,
           0,
           0.01,
           0.02,
           0.01,
           -0.01
          ],
          [
           -0.1,
           0,
           -0.06,
           -0.01,
           0.08,
           1,
           -0.11,
           0.07,
           0.16,
           0.03,
           -0.11
          ],
          [
           0.03,
           0.01,
           -0.01,
           -0.01,
           0,
           -0.11,
           1,
           0.11,
           -0.24,
           0.07,
           0.96
          ],
          [
           -0.15,
           0.02,
           -0.12,
           -0.06,
           0.01,
           0.07,
           0.11,
           1,
           -0.05,
           0.04,
           0.11
          ],
          [
           0.04,
           0,
           0.06,
           0.01,
           0.02,
           0.16,
           -0.24,
           -0.05,
           1,
           0,
           -0.22
          ],
          [
           0.03,
           0,
           0.02,
           0,
           0.01,
           0.03,
           0.07,
           0.04,
           0,
           1,
           0.07
          ],
          [
           0.04,
           0.01,
           0,
           -0.01,
           -0.01,
           -0.11,
           0.96,
           0.11,
           -0.22,
           0.07,
           1
          ]
         ]
        }
       ],
       "layout": {
        "coloraxis": {
         "colorscale": [
          [
           0,
           "rgb(5,48,97)"
          ],
          [
           0.1,
           "rgb(33,102,172)"
          ],
          [
           0.2,
           "rgb(67,147,195)"
          ],
          [
           0.3,
           "rgb(146,197,222)"
          ],
          [
           0.4,
           "rgb(209,229,240)"
          ],
          [
           0.5,
           "rgb(247,247,247)"
          ],
          [
           0.6,
           "rgb(253,219,199)"
          ],
          [
           0.7,
           "rgb(244,165,130)"
          ],
          [
           0.8,
           "rgb(214,96,77)"
          ],
          [
           0.9,
           "rgb(178,24,43)"
          ],
          [
           1,
           "rgb(103,0,31)"
          ]
         ]
        },
        "height": 600,
        "template": {
         "data": {
          "bar": [
           {
            "error_x": {
             "color": "#f2f5fa"
            },
            "error_y": {
             "color": "#f2f5fa"
            },
            "marker": {
             "line": {
              "color": "rgb(17,17,17)",
              "width": 0.5
             },
             "pattern": {
              "fillmode": "overlay",
              "size": 10,
              "solidity": 0.2
             }
            },
            "type": "bar"
           }
          ],
          "barpolar": [
           {
            "marker": {
             "line": {
              "color": "rgb(17,17,17)",
              "width": 0.5
             },
             "pattern": {
              "fillmode": "overlay",
              "size": 10,
              "solidity": 0.2
             }
            },
            "type": "barpolar"
           }
          ],
          "carpet": [
           {
            "aaxis": {
             "endlinecolor": "#A2B1C6",
             "gridcolor": "#506784",
             "linecolor": "#506784",
             "minorgridcolor": "#506784",
             "startlinecolor": "#A2B1C6"
            },
            "baxis": {
             "endlinecolor": "#A2B1C6",
             "gridcolor": "#506784",
             "linecolor": "#506784",
             "minorgridcolor": "#506784",
             "startlinecolor": "#A2B1C6"
            },
            "type": "carpet"
           }
          ],
          "choropleth": [
           {
            "colorbar": {
             "outlinewidth": 0,
             "ticks": ""
            },
            "type": "choropleth"
           }
          ],
          "contour": [
           {
            "colorbar": {
             "outlinewidth": 0,
             "ticks": ""
            },
            "colorscale": [
             [
              0,
              "#0d0887"
             ],
             [
              0.1111111111111111,
              "#46039f"
             ],
             [
              0.2222222222222222,
              "#7201a8"
             ],
             [
              0.3333333333333333,
              "#9c179e"
             ],
             [
              0.4444444444444444,
              "#bd3786"
             ],
             [
              0.5555555555555556,
              "#d8576b"
             ],
             [
              0.6666666666666666,
              "#ed7953"
             ],
             [
              0.7777777777777778,
              "#fb9f3a"
             ],
             [
              0.8888888888888888,
              "#fdca26"
             ],
             [
              1,
              "#f0f921"
             ]
            ],
            "type": "contour"
           }
          ],
          "contourcarpet": [
           {
            "colorbar": {
             "outlinewidth": 0,
             "ticks": ""
            },
            "type": "contourcarpet"
           }
          ],
          "heatmap": [
           {
            "colorbar": {
             "outlinewidth": 0,
             "ticks": ""
            },
            "colorscale": [
             [
              0,
              "#0d0887"
             ],
             [
              0.1111111111111111,
              "#46039f"
             ],
             [
              0.2222222222222222,
              "#7201a8"
             ],
             [
              0.3333333333333333,
              "#9c179e"
             ],
             [
              0.4444444444444444,
              "#bd3786"
             ],
             [
              0.5555555555555556,
              "#d8576b"
             ],
             [
              0.6666666666666666,
              "#ed7953"
             ],
             [
              0.7777777777777778,
              "#fb9f3a"
             ],
             [
              0.8888888888888888,
              "#fdca26"
             ],
             [
              1,
              "#f0f921"
             ]
            ],
            "type": "heatmap"
           }
          ],
          "heatmapgl": [
           {
            "colorbar": {
             "outlinewidth": 0,
             "ticks": ""
            },
            "colorscale": [
             [
              0,
              "#0d0887"
             ],
             [
              0.1111111111111111,
              "#46039f"
             ],
             [
              0.2222222222222222,
              "#7201a8"
             ],
             [
              0.3333333333333333,
              "#9c179e"
             ],
             [
              0.4444444444444444,
              "#bd3786"
             ],
             [
              0.5555555555555556,
              "#d8576b"
             ],
             [
              0.6666666666666666,
              "#ed7953"
             ],
             [
              0.7777777777777778,
              "#fb9f3a"
             ],
             [
              0.8888888888888888,
              "#fdca26"
             ],
             [
              1,
              "#f0f921"
             ]
            ],
            "type": "heatmapgl"
           }
          ],
          "histogram": [
           {
            "marker": {
             "pattern": {
              "fillmode": "overlay",
              "size": 10,
              "solidity": 0.2
             }
            },
            "type": "histogram"
           }
          ],
          "histogram2d": [
           {
            "colorbar": {
             "outlinewidth": 0,
             "ticks": ""
            },
            "colorscale": [
             [
              0,
              "#0d0887"
             ],
             [
              0.1111111111111111,
              "#46039f"
             ],
             [
              0.2222222222222222,
              "#7201a8"
             ],
             [
              0.3333333333333333,
              "#9c179e"
             ],
             [
              0.4444444444444444,
              "#bd3786"
             ],
             [
              0.5555555555555556,
              "#d8576b"
             ],
             [
              0.6666666666666666,
              "#ed7953"
             ],
             [
              0.7777777777777778,
              "#fb9f3a"
             ],
             [
              0.8888888888888888,
              "#fdca26"
             ],
             [
              1,
              "#f0f921"
             ]
            ],
            "type": "histogram2d"
           }
          ],
          "histogram2dcontour": [
           {
            "colorbar": {
             "outlinewidth": 0,
             "ticks": ""
            },
            "colorscale": [
             [
              0,
              "#0d0887"
             ],
             [
              0.1111111111111111,
              "#46039f"
             ],
             [
              0.2222222222222222,
              "#7201a8"
             ],
             [
              0.3333333333333333,
              "#9c179e"
             ],
             [
              0.4444444444444444,
              "#bd3786"
             ],
             [
              0.5555555555555556,
              "#d8576b"
             ],
             [
              0.6666666666666666,
              "#ed7953"
             ],
             [
              0.7777777777777778,
              "#fb9f3a"
             ],
             [
              0.8888888888888888,
              "#fdca26"
             ],
             [
              1,
              "#f0f921"
             ]
            ],
            "type": "histogram2dcontour"
           }
          ],
          "mesh3d": [
           {
            "colorbar": {
             "outlinewidth": 0,
             "ticks": ""
            },
            "type": "mesh3d"
           }
          ],
          "parcoords": [
           {
            "line": {
             "colorbar": {
              "outlinewidth": 0,
              "ticks": ""
             }
            },
            "type": "parcoords"
           }
          ],
          "pie": [
           {
            "automargin": true,
            "type": "pie"
           }
          ],
          "scatter": [
           {
            "marker": {
             "line": {
              "color": "#283442"
             }
            },
            "type": "scatter"
           }
          ],
          "scatter3d": [
           {
            "line": {
             "colorbar": {
              "outlinewidth": 0,
              "ticks": ""
             }
            },
            "marker": {
             "colorbar": {
              "outlinewidth": 0,
              "ticks": ""
             }
            },
            "type": "scatter3d"
           }
          ],
          "scattercarpet": [
           {
            "marker": {
             "colorbar": {
              "outlinewidth": 0,
              "ticks": ""
             }
            },
            "type": "scattercarpet"
           }
          ],
          "scattergeo": [
           {
            "marker": {
             "colorbar": {
              "outlinewidth": 0,
              "ticks": ""
             }
            },
            "type": "scattergeo"
           }
          ],
          "scattergl": [
           {
            "marker": {
             "line": {
              "color": "#283442"
             }
            },
            "type": "scattergl"
           }
          ],
          "scattermapbox": [
           {
            "marker": {
             "colorbar": {
              "outlinewidth": 0,
              "ticks": ""
             }
            },
            "type": "scattermapbox"
           }
          ],
          "scatterpolar": [
           {
            "marker": {
             "colorbar": {
              "outlinewidth": 0,
              "ticks": ""
             }
            },
            "type": "scatterpolar"
           }
          ],
          "scatterpolargl": [
           {
            "marker": {
             "colorbar": {
              "outlinewidth": 0,
              "ticks": ""
             }
            },
            "type": "scatterpolargl"
           }
          ],
          "scatterternary": [
           {
            "marker": {
             "colorbar": {
              "outlinewidth": 0,
              "ticks": ""
             }
            },
            "type": "scatterternary"
           }
          ],
          "surface": [
           {
            "colorbar": {
             "outlinewidth": 0,
             "ticks": ""
            },
            "colorscale": [
             [
              0,
              "#0d0887"
             ],
             [
              0.1111111111111111,
              "#46039f"
             ],
             [
              0.2222222222222222,
              "#7201a8"
             ],
             [
              0.3333333333333333,
              "#9c179e"
             ],
             [
              0.4444444444444444,
              "#bd3786"
             ],
             [
              0.5555555555555556,
              "#d8576b"
             ],
             [
              0.6666666666666666,
              "#ed7953"
             ],
             [
              0.7777777777777778,
              "#fb9f3a"
             ],
             [
              0.8888888888888888,
              "#fdca26"
             ],
             [
              1,
              "#f0f921"
             ]
            ],
            "type": "surface"
           }
          ],
          "table": [
           {
            "cells": {
             "fill": {
              "color": "#506784"
             },
             "line": {
              "color": "rgb(17,17,17)"
             }
            },
            "header": {
             "fill": {
              "color": "#2a3f5f"
             },
             "line": {
              "color": "rgb(17,17,17)"
             }
            },
            "type": "table"
           }
          ]
         },
         "layout": {
          "annotationdefaults": {
           "arrowcolor": "#f2f5fa",
           "arrowhead": 0,
           "arrowwidth": 1
          },
          "autotypenumbers": "strict",
          "coloraxis": {
           "colorbar": {
            "outlinewidth": 0,
            "ticks": ""
           }
          },
          "colorscale": {
           "diverging": [
            [
             0,
             "#8e0152"
            ],
            [
             0.1,
             "#c51b7d"
            ],
            [
             0.2,
             "#de77ae"
            ],
            [
             0.3,
             "#f1b6da"
            ],
            [
             0.4,
             "#fde0ef"
            ],
            [
             0.5,
             "#f7f7f7"
            ],
            [
             0.6,
             "#e6f5d0"
            ],
            [
             0.7,
             "#b8e186"
            ],
            [
             0.8,
             "#7fbc41"
            ],
            [
             0.9,
             "#4d9221"
            ],
            [
             1,
             "#276419"
            ]
           ],
           "sequential": [
            [
             0,
             "#0d0887"
            ],
            [
             0.1111111111111111,
             "#46039f"
            ],
            [
             0.2222222222222222,
             "#7201a8"
            ],
            [
             0.3333333333333333,
             "#9c179e"
            ],
            [
             0.4444444444444444,
             "#bd3786"
            ],
            [
             0.5555555555555556,
             "#d8576b"
            ],
            [
             0.6666666666666666,
             "#ed7953"
            ],
            [
             0.7777777777777778,
             "#fb9f3a"
            ],
            [
             0.8888888888888888,
             "#fdca26"
            ],
            [
             1,
             "#f0f921"
            ]
           ],
           "sequentialminus": [
            [
             0,
             "#0d0887"
            ],
            [
             0.1111111111111111,
             "#46039f"
            ],
            [
             0.2222222222222222,
             "#7201a8"
            ],
            [
             0.3333333333333333,
             "#9c179e"
            ],
            [
             0.4444444444444444,
             "#bd3786"
            ],
            [
             0.5555555555555556,
             "#d8576b"
            ],
            [
             0.6666666666666666,
             "#ed7953"
            ],
            [
             0.7777777777777778,
             "#fb9f3a"
            ],
            [
             0.8888888888888888,
             "#fdca26"
            ],
            [
             1,
             "#f0f921"
            ]
           ]
          },
          "colorway": [
           "#636efa",
           "#EF553B",
           "#00cc96",
           "#ab63fa",
           "#FFA15A",
           "#19d3f3",
           "#FF6692",
           "#B6E880",
           "#FF97FF",
           "#FECB52"
          ],
          "font": {
           "color": "#f2f5fa"
          },
          "geo": {
           "bgcolor": "rgb(17,17,17)",
           "lakecolor": "rgb(17,17,17)",
           "landcolor": "rgb(17,17,17)",
           "showlakes": true,
           "showland": true,
           "subunitcolor": "#506784"
          },
          "hoverlabel": {
           "align": "left"
          },
          "hovermode": "closest",
          "mapbox": {
           "style": "dark"
          },
          "paper_bgcolor": "rgb(17,17,17)",
          "plot_bgcolor": "rgb(17,17,17)",
          "polar": {
           "angularaxis": {
            "gridcolor": "#506784",
            "linecolor": "#506784",
            "ticks": ""
           },
           "bgcolor": "rgb(17,17,17)",
           "radialaxis": {
            "gridcolor": "#506784",
            "linecolor": "#506784",
            "ticks": ""
           }
          },
          "scene": {
           "xaxis": {
            "backgroundcolor": "rgb(17,17,17)",
            "gridcolor": "#506784",
            "gridwidth": 2,
            "linecolor": "#506784",
            "showbackground": true,
            "ticks": "",
            "zerolinecolor": "#C8D4E3"
           },
           "yaxis": {
            "backgroundcolor": "rgb(17,17,17)",
            "gridcolor": "#506784",
            "gridwidth": 2,
            "linecolor": "#506784",
            "showbackground": true,
            "ticks": "",
            "zerolinecolor": "#C8D4E3"
           },
           "zaxis": {
            "backgroundcolor": "rgb(17,17,17)",
            "gridcolor": "#506784",
            "gridwidth": 2,
            "linecolor": "#506784",
            "showbackground": true,
            "ticks": "",
            "zerolinecolor": "#C8D4E3"
           }
          },
          "shapedefaults": {
           "line": {
            "color": "#f2f5fa"
           }
          },
          "sliderdefaults": {
           "bgcolor": "#C8D4E3",
           "bordercolor": "rgb(17,17,17)",
           "borderwidth": 1,
           "tickwidth": 0
          },
          "ternary": {
           "aaxis": {
            "gridcolor": "#506784",
            "linecolor": "#506784",
            "ticks": ""
           },
           "baxis": {
            "gridcolor": "#506784",
            "linecolor": "#506784",
            "ticks": ""
           },
           "bgcolor": "rgb(17,17,17)",
           "caxis": {
            "gridcolor": "#506784",
            "linecolor": "#506784",
            "ticks": ""
           }
          },
          "title": {
           "x": 0.05
          },
          "updatemenudefaults": {
           "bgcolor": "#506784",
           "borderwidth": 0
          },
          "xaxis": {
           "automargin": true,
           "gridcolor": "#283442",
           "linecolor": "#506784",
           "ticks": "",
           "title": {
            "standoff": 15
           },
           "zerolinecolor": "#283442",
           "zerolinewidth": 2
          },
          "yaxis": {
           "automargin": true,
           "gridcolor": "#283442",
           "linecolor": "#506784",
           "ticks": "",
           "title": {
            "standoff": 15
           },
           "zerolinecolor": "#283442",
           "zerolinewidth": 2
          }
         }
        },
        "title": {
         "text": "Spearman Correlation between numerical variables"
        },
        "width": 900,
        "xaxis": {
         "anchor": "y",
         "constrain": "domain",
         "domain": [
          0,
          1
         ],
         "scaleanchor": "y"
        },
        "yaxis": {
         "anchor": "x",
         "autorange": "reversed",
         "constrain": "domain",
         "domain": [
          0,
          1
         ]
        }
       }
      }
     },
     "metadata": {},
     "output_type": "display_data"
    }
   ],
   "source": [
    "px.imshow(mysportsbetting_filtered.corr(\"spearman\").round(2), text_auto=True, title=\"Spearman Correlation between numerical variables\", \n",
    "          template=\"plotly_dark\", color_continuous_scale=\"RdBu_r\", width=900, height=600)"
   ]
  },
  {
   "cell_type": "markdown",
   "metadata": {},
   "source": [
    "### Modelos"
   ]
  },
  {
   "cell_type": "code",
   "execution_count": 10,
   "metadata": {},
   "outputs": [
    {
     "name": "stdout",
     "output_type": "stream",
     "text": [
      "Model: LinearRegression\n",
      "Mean Squared Error (MSE): 67.15909458828787\n",
      "R^2 Score: 0.002047701345662789\n",
      "\n",
      "Model: SVR\n",
      "Mean Squared Error (MSE): 69.0169297093088\n",
      "R^2 Score: -0.02555884756494331\n",
      "\n",
      "Model: Ridge\n",
      "Mean Squared Error (MSE): 67.15909700144296\n",
      "R^2 Score: 0.002047665487322603\n",
      "\n",
      "Model: Lasso\n",
      "Mean Squared Error (MSE): 67.30600525508768\n",
      "R^2 Score: -0.00013532149775818958\n",
      "\n",
      "Model: ElasticNet\n",
      "Mean Squared Error (MSE): 67.30600525508768\n",
      "R^2 Score: -0.00013532149775818958\n",
      "\n",
      "Model: RandomForestRegressor\n",
      "Mean Squared Error (MSE): 66.83070551142949\n",
      "R^2 Score: 0.006927407305262867\n",
      "\n",
      "Model: GradientBoostingRegressor\n",
      "Mean Squared Error (MSE): 68.06931196609298\n",
      "R^2 Score: -0.011477697262288977\n",
      "\n",
      "Model: Pipeline\n",
      "Mean Squared Error (MSE): 66.80684152200058\n",
      "R^2 Score: 0.007282014871842324\n",
      "\n"
     ]
    }
   ],
   "source": [
    "from sklearn.model_selection import train_test_split\n",
    "from sklearn.linear_model import LinearRegression, Ridge, Lasso, ElasticNet\n",
    "from sklearn.ensemble import RandomForestRegressor, GradientBoostingRegressor\n",
    "from sklearn.preprocessing import PolynomialFeatures, StandardScaler\n",
    "from sklearn.svm import SVR\n",
    "from sklearn.pipeline import make_pipeline\n",
    "from sklearn.metrics import mean_squared_error, r2_score\n",
    "\n",
    "selected_columns=mysportsbetting_filtered[[\"Wager\",\"Purchase_Time_encoded\",\"Sport_Group_encoded\"]]        #Selected columns for the model from mysportsbetting \n",
    "\n",
    "X = selected_columns.drop(columns=[\"Wager\"])                                                             #Winnings is the object variable and will be \"y\"\n",
    "y = selected_columns[\"Wager\"]\n",
    "\n",
    "# Dividir los datos en conjuntos de entrenamiento y prueba\n",
    "X_train, X_test, y_train, y_test = train_test_split(X, y, test_size=0.2, random_state=42)                   #Division between train(80%) and test(20%)\n",
    "\n",
    "scaler = StandardScaler()                                                                                   #Scaler for models Ridge, Lasso, ElasticNet and PolinomialFeatures\n",
    "X_train_scaled = scaler.fit_transform(X_train)\n",
    "X_test_scaled = scaler.transform(X_test)\n",
    "\n",
    "models = [                                                                                                  #Models list to apply\n",
    "    LinearRegression(),\n",
    "    SVR(),\n",
    "    Ridge(),\n",
    "    Lasso(),\n",
    "    ElasticNet(),\n",
    "    RandomForestRegressor(),\n",
    "    GradientBoostingRegressor(n_estimators=300, learning_rate=0.05, max_depth=4, max_features='sqrt', min_samples_leaf=15, min_samples_split=10, loss='huber', random_state =5),\n",
    "    make_pipeline(StandardScaler(), PolynomialFeatures(degree=2), LinearRegression())\n",
    "]\n",
    "\n",
    "model_names = []                                                                                           #Create list for results in order to use them latter on graphs\n",
    "mse_values = []\n",
    "r2_values = []\n",
    "\n",
    "for model in models:                                                                                        #Train and evaluate models from the list\n",
    "    model.fit(X_train_scaled, y_train)                                                                        #Adjust the model\n",
    "    y_pred = model.predict(X_test_scaled)                                                                     #Predictions\n",
    "    mse = mean_squared_error(y_test, y_pred)                                                                  #Calculate the squared error     \n",
    "    r2 = r2_score(y_test, y_pred)                                                                             #Calculate the coefficient of determination\n",
    "    \n",
    "    model_names.append(type(model).__name__)                                                                  # Add results in the lists before created\n",
    "    mse_values.append(mse)\n",
    "    r2_values.append(r2)\n",
    "    \n",
    "    print(f\"Model: {type(model).__name__}\")                                                                   #Print results                                                                      \n",
    "    print(f\"Mean Squared Error (MSE): {mse}\")\n",
    "    print(f\"R^2 Score: {r2}\")\n",
    "    print()"
   ]
  },
  {
   "cell_type": "code",
   "execution_count": 11,
   "metadata": {},
   "outputs": [
    {
     "data": {
      "image/png": "[encoded data removed]",
      "text/plain": [
       "<Figure size 1000x500 with 1 Axes>"
      ]
     },
     "metadata": {},
     "output_type": "display_data"
    },
    {
     "data": {
      "image/png": "[encoded data removed]",
      "text/plain": [
       "<Figure size 1000x500 with 1 Axes>"
      ]
     },
     "metadata": {},
     "output_type": "display_data"
    }
   ],
   "source": [
    "import matplotlib.pyplot as plt\n",
    "\n",
    "# Graficar el MSE\n",
    "plt.figure(figsize=(10, 5))\n",
    "plt.bar(model_names, mse_values, color='blue')\n",
    "plt.title('Comparación de MSE entre modelos')\n",
    "plt.xlabel('Modelo')\n",
    "plt.ylabel('Mean Squared Error (MSE)')\n",
    "plt.xticks(rotation=45, ha='right')\n",
    "plt.tight_layout()\n",
    "plt.show()\n",
    "\n",
    "# Graficar el R^2 Score\n",
    "plt.figure(figsize=(10, 5))\n",
    "plt.bar(model_names, r2_values, color='green')\n",
    "plt.title('Comparación de R^2 Score entre modelos')\n",
    "plt.xlabel('Modelo')\n",
    "plt.ylabel('R^2 Score')\n",
    "plt.xticks(rotation=45, ha='right')\n",
    "plt.tight_layout()\n",
    "plt.show()"
   ]
  },
  {
   "cell_type": "code",
   "execution_count": 12,
   "metadata": {},
   "outputs": [
    {
     "data": {
      "image/png": "[encoded data removed]",
      "text/plain": [
       "<Figure size 1800x600 with 2 Axes>"
      ]
     },
     "metadata": {},
     "output_type": "display_data"
    }
   ],
   "source": [
    "import matplotlib.pyplot as plt\n",
    "\n",
    "# Crear subplots\n",
    "fig, axs = plt.subplots(1, 2, figsize=(18, 6))\n",
    "\n",
    "# Gráfico para Mean Squared Error (MSE)\n",
    "axs[0].scatter(model_names, mse_values, color='blue')\n",
    "axs[0].set_ylabel('Mean Squared Error (MSE)')\n",
    "axs[0].set_xlabel('Modelo')\n",
    "axs[0].set_title('Comparación de MSE entre modelos')\n",
    "\n",
    "\n",
    "# Gráfico para R^2 Score\n",
    "axs[1].scatter(model_names, r2_values, color='green')\n",
    "axs[1].set_ylabel('R^2 Score')\n",
    "axs[1].set_xlabel('Modelo')\n",
    "axs[1].set_title('Comparación de R^2 entre modelos')\n",
    "\n",
    "\n",
    "plt.tight_layout()\n",
    "plt.show()"
   ]
  },
  {
   "cell_type": "markdown",
   "metadata": {},
   "source": [
    "## Comparision"
   ]
  },
  {
   "cell_type": "markdown",
   "metadata": {},
   "source": [
    "El modelo que parece tener el mejor rendimiento en términos de menor error cuadrático medio (MSE) y mayor coeficiente de determinación (R^2) es el RandomForestRegressor. Aunque el aumento en el R^2 es modesto, su MSE es ligeramente más bajo en comparación con otros modelos.\n",
    "\n",
    "El RandomForestRegressor es conocido por su capacidad para manejar datos no lineales y capturar relaciones complejas entre las características y la variable objetivo. Además, al ser un modelo de conjunto que combina múltiples árboles de decisión, tiende a generalizar bien a datos nuevos y desconocidos."
   ]
  },
  {
   "cell_type": "markdown",
   "metadata": {},
   "source": [
    "## Selected model: RandomForestRegressor"
   ]
  },
  {
   "cell_type": "code",
   "execution_count": 13,
   "metadata": {},
   "outputs": [
    {
     "name": "stdout",
     "output_type": "stream",
     "text": [
      "Model: RandomForestRegressor\n",
      "Mean Squared Error (MSE): 66.82839256744357\n",
      "R^2 Score: 0.006961776556092536\n",
      "Prediction: [1.81983764 1.33450707 1.81983764 ... 1.81983764 1.87095202 1.81983764]\n",
      "\n"
     ]
    }
   ],
   "source": [
    "from sklearn.ensemble import RandomForestRegressor\n",
    "import matplotlib.pyplot as plt\n",
    "\n",
    "# Aplicar RandomForestRegressor\n",
    "rf_model = RandomForestRegressor()\n",
    "rf_model.fit(X_train_scaled, y_train)\n",
    "rf_y_pred = rf_model.predict(X_test_scaled)\n",
    "\n",
    "rf_mse = mean_squared_error(y_test, rf_y_pred)\n",
    "rf_r2 = r2_score(y_test, rf_y_pred)\n",
    "\n",
    "# Imprimir resultados\n",
    "print(f\"Model: RandomForestRegressor\")\n",
    "print(f\"Mean Squared Error (MSE): {rf_mse}\")\n",
    "print(f\"R^2 Score: {rf_r2}\")\n",
    "print(f\"Prediction: {rf_y_pred}\")\n",
    "print()"
   ]
  },
  {
   "cell_type": "markdown",
   "metadata": {},
   "source": [
    "## New manual Prediction"
   ]
  },
  {
   "cell_type": "code",
   "execution_count": 14,
   "metadata": {},
   "outputs": [
    {
     "data": {
      "text/html": [
       "<div>\n",
       "<style scoped>\n",
       "    .dataframe tbody tr th:only-of-type {\n",
       "        vertical-align: middle;\n",
       "    }\n",
       "\n",
       "    .dataframe tbody tr th {\n",
       "        vertical-align: top;\n",
       "    }\n",
       "\n",
       "    .dataframe thead th {\n",
       "        text-align: right;\n",
       "    }\n",
       "</style>\n",
       "<table border=\"1\" class=\"dataframe\">\n",
       "  <thead>\n",
       "    <tr style=\"text-align: right;\">\n",
       "      <th></th>\n",
       "      <th>count</th>\n",
       "      <th>mean</th>\n",
       "      <th>std</th>\n",
       "      <th>min</th>\n",
       "      <th>25%</th>\n",
       "      <th>50%</th>\n",
       "      <th>75%</th>\n",
       "      <th>max</th>\n",
       "    </tr>\n",
       "  </thead>\n",
       "  <tbody>\n",
       "    <tr>\n",
       "      <th>Wager</th>\n",
       "      <td>22482.0</td>\n",
       "      <td>1.502843</td>\n",
       "      <td>8.368932</td>\n",
       "      <td>-0.15656</td>\n",
       "      <td>-0.129548</td>\n",
       "      <td>-0.02591</td>\n",
       "      <td>0.565601</td>\n",
       "      <td>389.499449</td>\n",
       "    </tr>\n",
       "    <tr>\n",
       "      <th>Purchase_Time_encoded</th>\n",
       "      <td>22482.0</td>\n",
       "      <td>0.673072</td>\n",
       "      <td>0.469101</td>\n",
       "      <td>0.00000</td>\n",
       "      <td>0.000000</td>\n",
       "      <td>1.00000</td>\n",
       "      <td>1.000000</td>\n",
       "      <td>1.000000</td>\n",
       "    </tr>\n",
       "    <tr>\n",
       "      <th>Sport_Group_encoded</th>\n",
       "      <td>22482.0</td>\n",
       "      <td>1.390979</td>\n",
       "      <td>1.176163</td>\n",
       "      <td>0.00000</td>\n",
       "      <td>1.000000</td>\n",
       "      <td>1.00000</td>\n",
       "      <td>1.000000</td>\n",
       "      <td>5.000000</td>\n",
       "    </tr>\n",
       "  </tbody>\n",
       "</table>\n",
       "</div>"
      ],
      "text/plain": [
       "                         count      mean       std      min       25%  \\\n",
       "Wager                  22482.0  1.502843  8.368932 -0.15656 -0.129548   \n",
       "Purchase_Time_encoded  22482.0  0.673072  0.469101  0.00000  0.000000   \n",
       "Sport_Group_encoded    22482.0  1.390979  1.176163  0.00000  1.000000   \n",
       "\n",
       "                           50%       75%         max  \n",
       "Wager                 -0.02591  0.565601  389.499449  \n",
       "Purchase_Time_encoded  1.00000  1.000000    1.000000  \n",
       "Sport_Group_encoded    1.00000  1.000000    5.000000  "
      ]
     },
     "execution_count": 14,
     "metadata": {},
     "output_type": "execute_result"
    }
   ],
   "source": [
    "selected_columns.describe().T"
   ]
  },
  {
   "cell_type": "markdown",
   "metadata": {},
   "source": [
    "### With created new random data"
   ]
  },
  {
   "cell_type": "code",
   "execution_count": 15,
   "metadata": {},
   "outputs": [
    {
     "name": "stdout",
     "output_type": "stream",
     "text": [
      "Nuevas entradas generadas aleatoriamente:\n",
      "[[0 0]\n",
      " [1 0]\n",
      " [0 5]\n",
      " [1 5]\n",
      " [1 5]]\n"
     ]
    }
   ],
   "source": [
    "import numpy as np\n",
    "\n",
    "# Generar nuevas entradas aleatorias\n",
    "new_data = []\n",
    "for _ in range(5):  # Generar 5 nuevas entradas\n",
    "    # Generar valores aleatorios para cada característica en el rango adecuado\n",
    "\n",
    "    purchase_time_encoded = np.random.choice([0, 1])  # Valores binarios para Purchase_Time_encoded\n",
    "    sport_group_encoded = np.random.choice([0, 5])    # Valores binarios para Sport_Group_encoded\n",
    "    \n",
    "    # Agregar la nueva entrada a la lista\n",
    "    new_data.append([purchase_time_encoded, sport_group_encoded])\n",
    "\n",
    "# Convertir la lista de nuevas entradas a un array numpy\n",
    "new_data = np.array(new_data)\n",
    "\n",
    "# Imprimir las nuevas entradas generadas\n",
    "print(\"Nuevas entradas generadas aleatoriamente:\")\n",
    "print(new_data)"
   ]
  },
  {
   "cell_type": "code",
   "execution_count": 16,
   "metadata": {},
   "outputs": [
    {
     "name": "stdout",
     "output_type": "stream",
     "text": [
      "Nueva predicción manual:\n",
      "Predicción de Winnings: [2.97280001 1.94608092 2.40489461 2.02950799 2.02950799]\n"
     ]
    },
    {
     "name": "stderr",
     "output_type": "stream",
     "text": [
      "c:\\Users\\mayin\\AppData\\Local\\Programs\\Python\\Python310\\lib\\site-packages\\sklearn\\base.py:493: UserWarning:\n",
      "\n",
      "X does not have valid feature names, but StandardScaler was fitted with feature names\n",
      "\n"
     ]
    }
   ],
   "source": [
    "new_data_scaled = scaler.transform(new_data)\n",
    "\n",
    "# Realizar la predicción usando el modelo RandomForestRegressor\n",
    "prediction = rf_model.predict(new_data_scaled)\n",
    "\n",
    "# Imprimir la predicción\n",
    "print(\"Nueva predicción manual:\")\n",
    "print(\"Predicción de Winnings:\", prediction)"
   ]
  },
  {
   "cell_type": "markdown",
   "metadata": {},
   "source": [
    "### With real data"
   ]
  },
  {
   "cell_type": "code",
   "execution_count": 18,
   "metadata": {},
   "outputs": [
    {
     "name": "stdout",
     "output_type": "stream",
     "text": [
      "Predictions:\n",
      "Data 1: 1.9460809188886865\n",
      "Data 2: 2.9728000094097404\n",
      "Data 3: 1.9460809188886865\n",
      "Data 4: 1.9460809188886865\n",
      "Data 5: 1.3345070710027331\n",
      "Data 6: 1.3345070710027331\n",
      "Data 7: 1.819837635533447\n",
      "Data 8: 1.819837635533447\n",
      "Data 9: 0.8158654521736592\n",
      "Data 10: 0.8158654521736592\n",
      "Data 11: 0.8158654521736592\n",
      "Data 12: 0.8158654521736592\n",
      "Data 13: 1.2124071858087784\n",
      "Data 14: 1.870952020533083\n",
      "Data 15: 1.2124071858087784\n",
      "Data 16: 1.870952020533083\n",
      "Data 17: 2.0295079921065793\n",
      "Data 18: 2.404894606343471\n",
      "Data 19: 2.0295079921065793\n",
      "Data 20: 2.404894606343471\n"
     ]
    },
    {
     "name": "stderr",
     "output_type": "stream",
     "text": [
      "c:\\Users\\mayin\\AppData\\Local\\Programs\\Python\\Python310\\lib\\site-packages\\sklearn\\base.py:493: UserWarning:\n",
      "\n",
      "X does not have valid feature names, but StandardScaler was fitted with feature names\n",
      "\n"
     ]
    }
   ],
   "source": [
    "import numpy as np\n",
    "\n",
    "# Datos de entrada para la predicción\n",
    "new_data = np.array([\n",
    "    [1, 0],\n",
    "    [0, 0],\n",
    "    [1, 0],\n",
    "    [1, 0],\n",
    "    [1, 1],\n",
    "    [1, 1],\n",
    "    [0, 1],\n",
    "    [0, 1],\n",
    "    [1, 3],\n",
    "    [1, 3],\n",
    "    [1, 3],\n",
    "    [1, 3],\n",
    "    [0, 4],\n",
    "    [1, 4],\n",
    "    [0, 4],\n",
    "    [1, 4],\n",
    "    [1, 5],\n",
    "    [0, 5],\n",
    "    [1, 5],\n",
    "    [0, 5]\n",
    "])\n",
    "\n",
    "# Escalar los datos de entrada\n",
    "new_data_scaled = scaler.transform(new_data)\n",
    "\n",
    "# Realizar la predicción con el modelo RandomForestRegressor\n",
    "predictions = rf_model.predict(new_data_scaled)\n",
    "\n",
    "# Imprimir las predicciones\n",
    "print(\"Predictions:\")\n",
    "for i, prediction in enumerate(predictions):\n",
    "    print(f\"Data {i+1}: {prediction}\")"
   ]
  },
  {
   "cell_type": "code",
   "execution_count": 22,
   "metadata": {},
   "outputs": [
    {
     "name": "stdout",
     "output_type": "stream",
     "text": [
      "Predictions:\n",
      "Sport Group: 5, Purchase Time: 0, Predicted Total Wager: 0.0\n",
      "Sport Group: 0, Purchase Time: 1, Predicted Total Wager: 0.0\n"
     ]
    }
   ],
   "source": [
    "import pandas as pd\n",
    "import numpy as np\n",
    "from sklearn.model_selection import train_test_split\n",
    "from sklearn.ensemble import RandomForestRegressor\n",
    "from sklearn.preprocessing import StandardScaler\n",
    "\n",
    "# Suponiendo que tienes tus datos en la variable selected_columns\n",
    "\n",
    "# Agrupar los datos originales por deporte y por tiempo de compra, y calcular el total de apuestas\n",
    "grouped_data_wager = selected_columns.groupby(['Sport_Group_encoded', 'Purchase_Time_encoded']).agg({'Wager': 'count'}).reset_index()\n",
    "grouped_data_wager.columns = ['Sport_Group_encoded', 'Purchase_Time_encoded', 'Total_Bets']\n",
    "\n",
    "# Utilizar las características agrupadas para hacer la predicción\n",
    "X_grouped_wager = grouped_data_wager[['Sport_Group_encoded', 'Purchase_Time_encoded', 'Total_Bets']]\n",
    "\n",
    "# Dividir los datos en conjuntos de entrenamiento y prueba\n",
    "X_train_grouped_wager, X_test_grouped_wager = train_test_split(X_grouped_wager, test_size=0.2, random_state=42)\n",
    "\n",
    "# Escalar los datos de características\n",
    "scaler = StandardScaler()\n",
    "X_train_grouped_wager_scaled = scaler.fit_transform(X_train_grouped_wager)\n",
    "X_test_grouped_wager_scaled = scaler.transform(X_test_grouped_wager)\n",
    "\n",
    "# Crear una variable dummy y_train con ceros\n",
    "y_train_grouped_wager_dummy = np.zeros(X_train_grouped_wager_scaled.shape[0])\n",
    "\n",
    "# Crear y entrenar el modelo RandomForestRegressor\n",
    "rf_model = RandomForestRegressor()\n",
    "rf_model.fit(X_train_grouped_wager_scaled, y_train_grouped_wager_dummy)\n",
    "\n",
    "# Realizar la predicción con el modelo entrenado\n",
    "predictions_grouped_wager = rf_model.predict(X_test_grouped_wager_scaled)\n",
    "\n",
    "# Imprimir las predicciones agrupadas por deporte y tiempo de compra\n",
    "print(\"Predictions:\")\n",
    "for i, prediction in enumerate(predictions_grouped_wager):\n",
    "    print(f\"Sport Group: {X_test_grouped_wager.iloc[i]['Sport_Group_encoded']}, Purchase Time: {X_test_grouped_wager.iloc[i]['Purchase_Time_encoded']}, Predicted Total Wager: {prediction}\")"
   ]
  }
 ],
 "metadata": {
  "kernelspec": {
   "display_name": "Python 3",
   "language": "python",
   "name": "python3"
  },
  "language_info": {
   "codemirror_mode": {
    "name": "ipython",
    "version": 3
   },
   "file_extension": ".py",
   "mimetype": "text/x-python",
   "name": "python",
   "nbconvert_exporter": "python",
   "pygments_lexer": "ipython3",
   "version": "3.10.10"
  }
 },
 "nbformat": 4,
 "nbformat_minor": 2
}
