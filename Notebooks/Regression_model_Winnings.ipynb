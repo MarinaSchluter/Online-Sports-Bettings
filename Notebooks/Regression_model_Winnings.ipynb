{
 "cells": [
  {
   "cell_type": "code",
   "execution_count": 1,
   "metadata": {},
   "outputs": [],
   "source": [
    "import pandas as pd\n",
    "import plotly.express as px"
   ]
  },
  {
   "cell_type": "markdown",
   "metadata": {},
   "source": [
    "## Row Data, without applying Normalisation and removing Outliers"
   ]
  },
  {
   "cell_type": "markdown",
   "metadata": {},
   "source": [
    "### csv uploads"
   ]
  },
  {
   "cell_type": "code",
   "execution_count": 10,
   "metadata": {},
   "outputs": [
    {
     "ename": "FileNotFoundError",
     "evalue": "[Errno 2] No such file or directory: 'Data\\\\mysportsbetting.csv'",
     "output_type": "error",
     "traceback": [
      "\u001b[1;31m---------------------------------------------------------------------------\u001b[0m",
      "\u001b[1;31mFileNotFoundError\u001b[0m                         Traceback (most recent call last)",
      "Cell \u001b[1;32mIn[10], line 1\u001b[0m\n\u001b[1;32m----> 1\u001b[0m mysportsbetting\u001b[38;5;241m=\u001b[39m\u001b[43mpd\u001b[49m\u001b[38;5;241;43m.\u001b[39;49m\u001b[43mread_csv\u001b[49m\u001b[43m(\u001b[49m\u001b[38;5;124;43m\"\u001b[39;49m\u001b[38;5;124;43mData\u001b[39;49m\u001b[38;5;124;43m\\\u001b[39;49m\u001b[38;5;124;43mmysportsbetting.csv\u001b[39;49m\u001b[38;5;124;43m\"\u001b[39;49m\u001b[43m)\u001b[49m                  \n\u001b[0;32m      2\u001b[0m mysportsbetting\u001b[38;5;241m.\u001b[39mhead(\u001b[38;5;241m2\u001b[39m)\n",
      "File \u001b[1;32mc:\\Users\\mayin\\AppData\\Local\\Programs\\Python\\Python310\\lib\\site-packages\\pandas\\util\\_decorators.py:211\u001b[0m, in \u001b[0;36mdeprecate_kwarg.<locals>._deprecate_kwarg.<locals>.wrapper\u001b[1;34m(*args, **kwargs)\u001b[0m\n\u001b[0;32m    209\u001b[0m     \u001b[38;5;28;01melse\u001b[39;00m:\n\u001b[0;32m    210\u001b[0m         kwargs[new_arg_name] \u001b[38;5;241m=\u001b[39m new_arg_value\n\u001b[1;32m--> 211\u001b[0m \u001b[38;5;28;01mreturn\u001b[39;00m func(\u001b[38;5;241m*\u001b[39margs, \u001b[38;5;241m*\u001b[39m\u001b[38;5;241m*\u001b[39mkwargs)\n",
      "File \u001b[1;32mc:\\Users\\mayin\\AppData\\Local\\Programs\\Python\\Python310\\lib\\site-packages\\pandas\\util\\_decorators.py:331\u001b[0m, in \u001b[0;36mdeprecate_nonkeyword_arguments.<locals>.decorate.<locals>.wrapper\u001b[1;34m(*args, **kwargs)\u001b[0m\n\u001b[0;32m    325\u001b[0m \u001b[38;5;28;01mif\u001b[39;00m \u001b[38;5;28mlen\u001b[39m(args) \u001b[38;5;241m>\u001b[39m num_allow_args:\n\u001b[0;32m    326\u001b[0m     warnings\u001b[38;5;241m.\u001b[39mwarn(\n\u001b[0;32m    327\u001b[0m         msg\u001b[38;5;241m.\u001b[39mformat(arguments\u001b[38;5;241m=\u001b[39m_format_argument_list(allow_args)),\n\u001b[0;32m    328\u001b[0m         \u001b[38;5;167;01mFutureWarning\u001b[39;00m,\n\u001b[0;32m    329\u001b[0m         stacklevel\u001b[38;5;241m=\u001b[39mfind_stack_level(),\n\u001b[0;32m    330\u001b[0m     )\n\u001b[1;32m--> 331\u001b[0m \u001b[38;5;28;01mreturn\u001b[39;00m func(\u001b[38;5;241m*\u001b[39margs, \u001b[38;5;241m*\u001b[39m\u001b[38;5;241m*\u001b[39mkwargs)\n",
      "File \u001b[1;32mc:\\Users\\mayin\\AppData\\Local\\Programs\\Python\\Python310\\lib\\site-packages\\pandas\\io\\parsers\\readers.py:950\u001b[0m, in \u001b[0;36mread_csv\u001b[1;34m(filepath_or_buffer, sep, delimiter, header, names, index_col, usecols, squeeze, prefix, mangle_dupe_cols, dtype, engine, converters, true_values, false_values, skipinitialspace, skiprows, skipfooter, nrows, na_values, keep_default_na, na_filter, verbose, skip_blank_lines, parse_dates, infer_datetime_format, keep_date_col, date_parser, dayfirst, cache_dates, iterator, chunksize, compression, thousands, decimal, lineterminator, quotechar, quoting, doublequote, escapechar, comment, encoding, encoding_errors, dialect, error_bad_lines, warn_bad_lines, on_bad_lines, delim_whitespace, low_memory, memory_map, float_precision, storage_options)\u001b[0m\n\u001b[0;32m    935\u001b[0m kwds_defaults \u001b[38;5;241m=\u001b[39m _refine_defaults_read(\n\u001b[0;32m    936\u001b[0m     dialect,\n\u001b[0;32m    937\u001b[0m     delimiter,\n\u001b[1;32m   (...)\u001b[0m\n\u001b[0;32m    946\u001b[0m     defaults\u001b[38;5;241m=\u001b[39m{\u001b[38;5;124m\"\u001b[39m\u001b[38;5;124mdelimiter\u001b[39m\u001b[38;5;124m\"\u001b[39m: \u001b[38;5;124m\"\u001b[39m\u001b[38;5;124m,\u001b[39m\u001b[38;5;124m\"\u001b[39m},\n\u001b[0;32m    947\u001b[0m )\n\u001b[0;32m    948\u001b[0m kwds\u001b[38;5;241m.\u001b[39mupdate(kwds_defaults)\n\u001b[1;32m--> 950\u001b[0m \u001b[38;5;28;01mreturn\u001b[39;00m \u001b[43m_read\u001b[49m\u001b[43m(\u001b[49m\u001b[43mfilepath_or_buffer\u001b[49m\u001b[43m,\u001b[49m\u001b[43m \u001b[49m\u001b[43mkwds\u001b[49m\u001b[43m)\u001b[49m\n",
      "File \u001b[1;32mc:\\Users\\mayin\\AppData\\Local\\Programs\\Python\\Python310\\lib\\site-packages\\pandas\\io\\parsers\\readers.py:605\u001b[0m, in \u001b[0;36m_read\u001b[1;34m(filepath_or_buffer, kwds)\u001b[0m\n\u001b[0;32m    602\u001b[0m _validate_names(kwds\u001b[38;5;241m.\u001b[39mget(\u001b[38;5;124m\"\u001b[39m\u001b[38;5;124mnames\u001b[39m\u001b[38;5;124m\"\u001b[39m, \u001b[38;5;28;01mNone\u001b[39;00m))\n\u001b[0;32m    604\u001b[0m \u001b[38;5;66;03m# Create the parser.\u001b[39;00m\n\u001b[1;32m--> 605\u001b[0m parser \u001b[38;5;241m=\u001b[39m TextFileReader(filepath_or_buffer, \u001b[38;5;241m*\u001b[39m\u001b[38;5;241m*\u001b[39mkwds)\n\u001b[0;32m    607\u001b[0m \u001b[38;5;28;01mif\u001b[39;00m chunksize \u001b[38;5;129;01mor\u001b[39;00m iterator:\n\u001b[0;32m    608\u001b[0m     \u001b[38;5;28;01mreturn\u001b[39;00m parser\n",
      "File \u001b[1;32mc:\\Users\\mayin\\AppData\\Local\\Programs\\Python\\Python310\\lib\\site-packages\\pandas\\io\\parsers\\readers.py:1442\u001b[0m, in \u001b[0;36mTextFileReader.__init__\u001b[1;34m(self, f, engine, **kwds)\u001b[0m\n\u001b[0;32m   1439\u001b[0m     \u001b[38;5;28mself\u001b[39m\u001b[38;5;241m.\u001b[39moptions[\u001b[38;5;124m\"\u001b[39m\u001b[38;5;124mhas_index_names\u001b[39m\u001b[38;5;124m\"\u001b[39m] \u001b[38;5;241m=\u001b[39m kwds[\u001b[38;5;124m\"\u001b[39m\u001b[38;5;124mhas_index_names\u001b[39m\u001b[38;5;124m\"\u001b[39m]\n\u001b[0;32m   1441\u001b[0m \u001b[38;5;28mself\u001b[39m\u001b[38;5;241m.\u001b[39mhandles: IOHandles \u001b[38;5;241m|\u001b[39m \u001b[38;5;28;01mNone\u001b[39;00m \u001b[38;5;241m=\u001b[39m \u001b[38;5;28;01mNone\u001b[39;00m\n\u001b[1;32m-> 1442\u001b[0m \u001b[38;5;28mself\u001b[39m\u001b[38;5;241m.\u001b[39m_engine \u001b[38;5;241m=\u001b[39m \u001b[38;5;28;43mself\u001b[39;49m\u001b[38;5;241;43m.\u001b[39;49m\u001b[43m_make_engine\u001b[49m\u001b[43m(\u001b[49m\u001b[43mf\u001b[49m\u001b[43m,\u001b[49m\u001b[43m \u001b[49m\u001b[38;5;28;43mself\u001b[39;49m\u001b[38;5;241;43m.\u001b[39;49m\u001b[43mengine\u001b[49m\u001b[43m)\u001b[49m\n",
      "File \u001b[1;32mc:\\Users\\mayin\\AppData\\Local\\Programs\\Python\\Python310\\lib\\site-packages\\pandas\\io\\parsers\\readers.py:1735\u001b[0m, in \u001b[0;36mTextFileReader._make_engine\u001b[1;34m(self, f, engine)\u001b[0m\n\u001b[0;32m   1733\u001b[0m     \u001b[38;5;28;01mif\u001b[39;00m \u001b[38;5;124m\"\u001b[39m\u001b[38;5;124mb\u001b[39m\u001b[38;5;124m\"\u001b[39m \u001b[38;5;129;01mnot\u001b[39;00m \u001b[38;5;129;01min\u001b[39;00m mode:\n\u001b[0;32m   1734\u001b[0m         mode \u001b[38;5;241m+\u001b[39m\u001b[38;5;241m=\u001b[39m \u001b[38;5;124m\"\u001b[39m\u001b[38;5;124mb\u001b[39m\u001b[38;5;124m\"\u001b[39m\n\u001b[1;32m-> 1735\u001b[0m \u001b[38;5;28mself\u001b[39m\u001b[38;5;241m.\u001b[39mhandles \u001b[38;5;241m=\u001b[39m \u001b[43mget_handle\u001b[49m\u001b[43m(\u001b[49m\n\u001b[0;32m   1736\u001b[0m \u001b[43m    \u001b[49m\u001b[43mf\u001b[49m\u001b[43m,\u001b[49m\n\u001b[0;32m   1737\u001b[0m \u001b[43m    \u001b[49m\u001b[43mmode\u001b[49m\u001b[43m,\u001b[49m\n\u001b[0;32m   1738\u001b[0m \u001b[43m    \u001b[49m\u001b[43mencoding\u001b[49m\u001b[38;5;241;43m=\u001b[39;49m\u001b[38;5;28;43mself\u001b[39;49m\u001b[38;5;241;43m.\u001b[39;49m\u001b[43moptions\u001b[49m\u001b[38;5;241;43m.\u001b[39;49m\u001b[43mget\u001b[49m\u001b[43m(\u001b[49m\u001b[38;5;124;43m\"\u001b[39;49m\u001b[38;5;124;43mencoding\u001b[39;49m\u001b[38;5;124;43m\"\u001b[39;49m\u001b[43m,\u001b[49m\u001b[43m \u001b[49m\u001b[38;5;28;43;01mNone\u001b[39;49;00m\u001b[43m)\u001b[49m\u001b[43m,\u001b[49m\n\u001b[0;32m   1739\u001b[0m \u001b[43m    \u001b[49m\u001b[43mcompression\u001b[49m\u001b[38;5;241;43m=\u001b[39;49m\u001b[38;5;28;43mself\u001b[39;49m\u001b[38;5;241;43m.\u001b[39;49m\u001b[43moptions\u001b[49m\u001b[38;5;241;43m.\u001b[39;49m\u001b[43mget\u001b[49m\u001b[43m(\u001b[49m\u001b[38;5;124;43m\"\u001b[39;49m\u001b[38;5;124;43mcompression\u001b[39;49m\u001b[38;5;124;43m\"\u001b[39;49m\u001b[43m,\u001b[49m\u001b[43m \u001b[49m\u001b[38;5;28;43;01mNone\u001b[39;49;00m\u001b[43m)\u001b[49m\u001b[43m,\u001b[49m\n\u001b[0;32m   1740\u001b[0m \u001b[43m    \u001b[49m\u001b[43mmemory_map\u001b[49m\u001b[38;5;241;43m=\u001b[39;49m\u001b[38;5;28;43mself\u001b[39;49m\u001b[38;5;241;43m.\u001b[39;49m\u001b[43moptions\u001b[49m\u001b[38;5;241;43m.\u001b[39;49m\u001b[43mget\u001b[49m\u001b[43m(\u001b[49m\u001b[38;5;124;43m\"\u001b[39;49m\u001b[38;5;124;43mmemory_map\u001b[39;49m\u001b[38;5;124;43m\"\u001b[39;49m\u001b[43m,\u001b[49m\u001b[43m \u001b[49m\u001b[38;5;28;43;01mFalse\u001b[39;49;00m\u001b[43m)\u001b[49m\u001b[43m,\u001b[49m\n\u001b[0;32m   1741\u001b[0m \u001b[43m    \u001b[49m\u001b[43mis_text\u001b[49m\u001b[38;5;241;43m=\u001b[39;49m\u001b[43mis_text\u001b[49m\u001b[43m,\u001b[49m\n\u001b[0;32m   1742\u001b[0m \u001b[43m    \u001b[49m\u001b[43merrors\u001b[49m\u001b[38;5;241;43m=\u001b[39;49m\u001b[38;5;28;43mself\u001b[39;49m\u001b[38;5;241;43m.\u001b[39;49m\u001b[43moptions\u001b[49m\u001b[38;5;241;43m.\u001b[39;49m\u001b[43mget\u001b[49m\u001b[43m(\u001b[49m\u001b[38;5;124;43m\"\u001b[39;49m\u001b[38;5;124;43mencoding_errors\u001b[39;49m\u001b[38;5;124;43m\"\u001b[39;49m\u001b[43m,\u001b[49m\u001b[43m \u001b[49m\u001b[38;5;124;43m\"\u001b[39;49m\u001b[38;5;124;43mstrict\u001b[39;49m\u001b[38;5;124;43m\"\u001b[39;49m\u001b[43m)\u001b[49m\u001b[43m,\u001b[49m\n\u001b[0;32m   1743\u001b[0m \u001b[43m    \u001b[49m\u001b[43mstorage_options\u001b[49m\u001b[38;5;241;43m=\u001b[39;49m\u001b[38;5;28;43mself\u001b[39;49m\u001b[38;5;241;43m.\u001b[39;49m\u001b[43moptions\u001b[49m\u001b[38;5;241;43m.\u001b[39;49m\u001b[43mget\u001b[49m\u001b[43m(\u001b[49m\u001b[38;5;124;43m\"\u001b[39;49m\u001b[38;5;124;43mstorage_options\u001b[39;49m\u001b[38;5;124;43m\"\u001b[39;49m\u001b[43m,\u001b[49m\u001b[43m \u001b[49m\u001b[38;5;28;43;01mNone\u001b[39;49;00m\u001b[43m)\u001b[49m\u001b[43m,\u001b[49m\n\u001b[0;32m   1744\u001b[0m \u001b[43m\u001b[49m\u001b[43m)\u001b[49m\n\u001b[0;32m   1745\u001b[0m \u001b[38;5;28;01massert\u001b[39;00m \u001b[38;5;28mself\u001b[39m\u001b[38;5;241m.\u001b[39mhandles \u001b[38;5;129;01mis\u001b[39;00m \u001b[38;5;129;01mnot\u001b[39;00m \u001b[38;5;28;01mNone\u001b[39;00m\n\u001b[0;32m   1746\u001b[0m f \u001b[38;5;241m=\u001b[39m \u001b[38;5;28mself\u001b[39m\u001b[38;5;241m.\u001b[39mhandles\u001b[38;5;241m.\u001b[39mhandle\n",
      "File \u001b[1;32mc:\\Users\\mayin\\AppData\\Local\\Programs\\Python\\Python310\\lib\\site-packages\\pandas\\io\\common.py:856\u001b[0m, in \u001b[0;36mget_handle\u001b[1;34m(path_or_buf, mode, encoding, compression, memory_map, is_text, errors, storage_options)\u001b[0m\n\u001b[0;32m    851\u001b[0m \u001b[38;5;28;01melif\u001b[39;00m \u001b[38;5;28misinstance\u001b[39m(handle, \u001b[38;5;28mstr\u001b[39m):\n\u001b[0;32m    852\u001b[0m     \u001b[38;5;66;03m# Check whether the filename is to be opened in binary mode.\u001b[39;00m\n\u001b[0;32m    853\u001b[0m     \u001b[38;5;66;03m# Binary mode does not support 'encoding' and 'newline'.\u001b[39;00m\n\u001b[0;32m    854\u001b[0m     \u001b[38;5;28;01mif\u001b[39;00m ioargs\u001b[38;5;241m.\u001b[39mencoding \u001b[38;5;129;01mand\u001b[39;00m \u001b[38;5;124m\"\u001b[39m\u001b[38;5;124mb\u001b[39m\u001b[38;5;124m\"\u001b[39m \u001b[38;5;129;01mnot\u001b[39;00m \u001b[38;5;129;01min\u001b[39;00m ioargs\u001b[38;5;241m.\u001b[39mmode:\n\u001b[0;32m    855\u001b[0m         \u001b[38;5;66;03m# Encoding\u001b[39;00m\n\u001b[1;32m--> 856\u001b[0m         handle \u001b[38;5;241m=\u001b[39m \u001b[38;5;28;43mopen\u001b[39;49m\u001b[43m(\u001b[49m\n\u001b[0;32m    857\u001b[0m \u001b[43m            \u001b[49m\u001b[43mhandle\u001b[49m\u001b[43m,\u001b[49m\n\u001b[0;32m    858\u001b[0m \u001b[43m            \u001b[49m\u001b[43mioargs\u001b[49m\u001b[38;5;241;43m.\u001b[39;49m\u001b[43mmode\u001b[49m\u001b[43m,\u001b[49m\n\u001b[0;32m    859\u001b[0m \u001b[43m            \u001b[49m\u001b[43mencoding\u001b[49m\u001b[38;5;241;43m=\u001b[39;49m\u001b[43mioargs\u001b[49m\u001b[38;5;241;43m.\u001b[39;49m\u001b[43mencoding\u001b[49m\u001b[43m,\u001b[49m\n\u001b[0;32m    860\u001b[0m \u001b[43m            \u001b[49m\u001b[43merrors\u001b[49m\u001b[38;5;241;43m=\u001b[39;49m\u001b[43merrors\u001b[49m\u001b[43m,\u001b[49m\n\u001b[0;32m    861\u001b[0m \u001b[43m            \u001b[49m\u001b[43mnewline\u001b[49m\u001b[38;5;241;43m=\u001b[39;49m\u001b[38;5;124;43m\"\u001b[39;49m\u001b[38;5;124;43m\"\u001b[39;49m\u001b[43m,\u001b[49m\n\u001b[0;32m    862\u001b[0m \u001b[43m        \u001b[49m\u001b[43m)\u001b[49m\n\u001b[0;32m    863\u001b[0m     \u001b[38;5;28;01melse\u001b[39;00m:\n\u001b[0;32m    864\u001b[0m         \u001b[38;5;66;03m# Binary mode\u001b[39;00m\n\u001b[0;32m    865\u001b[0m         handle \u001b[38;5;241m=\u001b[39m \u001b[38;5;28mopen\u001b[39m(handle, ioargs\u001b[38;5;241m.\u001b[39mmode)\n",
      "\u001b[1;31mFileNotFoundError\u001b[0m: [Errno 2] No such file or directory: 'Data\\\\mysportsbetting.csv'"
     ]
    }
   ],
   "source": [
    "mysportsbetting=pd.read_csv(\"Data\\mysportsbetting.csv\")                  \n",
    "mysportsbetting.head(2)"
   ]
  },
  {
   "cell_type": "markdown",
   "metadata": {},
   "source": [
    "### Correlation overview"
   ]
  },
  {
   "cell_type": "code",
   "execution_count": null,
   "metadata": {},
   "outputs": [
    {
     "name": "stderr",
     "output_type": "stream",
     "text": [
      "C:\\Users\\mayin\\AppData\\Local\\Temp\\ipykernel_14824\\1574180648.py:1: FutureWarning:\n",
      "\n",
      "The default value of numeric_only in DataFrame.corr is deprecated. In a future version, it will default to False. Select only valid columns or specify the value of numeric_only to silence this warning.\n",
      "\n"
     ]
    },
    {
     "data": {
      "application/vnd.plotly.v1+json": {
       "config": {
        "plotlyServerURL": "https://plot.ly"
       },
       "data": [
        {
         "coloraxis": "coloraxis",
         "hovertemplate": "x: %{x}<br>y: %{y}<br>color: %{z}<extra></extra>",
         "name": "0",
         "texttemplate": "%{z}",
         "type": "heatmap",
         "x": [
          "Wager",
          "Paid",
          "Winnings",
          "Hold",
          "Month",
          "Day_of_Week",
          "Sport_encoded",
          "Purchase_Time_encoded",
          "Competition_encoded",
          "Event_encoded",
          "Sport_Group_encoded"
         ],
         "xaxis": "x",
         "y": [
          "Wager",
          "Paid",
          "Winnings",
          "Hold",
          "Month",
          "Day_of_Week",
          "Sport_encoded",
          "Purchase_Time_encoded",
          "Competition_encoded",
          "Event_encoded",
          "Sport_Group_encoded"
         ],
         "yaxis": "y",
         "z": [
          [
           1,
           0.37,
           0.5,
           -0.25,
           -0.06,
           -0.09,
           0.01,
           -0.17,
           0.05,
           0.02,
           0.03
          ],
          [
           0.37,
           1,
           -0.45,
           -0.97,
           -0.02,
           -0.01,
           -0.01,
           -0.03,
           0.02,
           0,
           0
          ],
          [
           0.5,
           -0.45,
           1,
           0.52,
           -0.02,
           -0.05,
           0.01,
           -0.08,
           0.04,
           0.02,
           0.01
          ],
          [
           -0.25,
           -0.97,
           0.52,
           1,
           0.01,
           0,
           0.01,
           -0.02,
           0,
           0,
           0
          ],
          [
           -0.06,
           -0.02,
           -0.02,
           0.01,
           1,
           0.08,
           0.01,
           0.01,
           0.01,
           0.01,
           0
          ],
          [
           -0.09,
           -0.01,
           -0.05,
           0,
           0.08,
           1,
           -0.1,
           0.06,
           0.15,
           0.03,
           -0.1
          ],
          [
           0.01,
           -0.01,
           0.01,
           0.01,
           0.01,
           -0.1,
           1,
           0.11,
           -0.23,
           0.06,
           0.95
          ],
          [
           -0.17,
           -0.03,
           -0.08,
           -0.02,
           0.01,
           0.06,
           0.11,
           1,
           -0.05,
           0.04,
           0.11
          ],
          [
           0.05,
           0.02,
           0.04,
           0,
           0.01,
           0.15,
           -0.23,
           -0.05,
           1,
           0,
           -0.21
          ],
          [
           0.02,
           0,
           0.02,
           0,
           0.01,
           0.03,
           0.06,
           0.04,
           0,
           1,
           0.06
          ],
          [
           0.03,
           0,
           0.01,
           0,
           0,
           -0.1,
           0.95,
           0.11,
           -0.21,
           0.06,
           1
          ]
         ]
        }
       ],
       "layout": {
        "coloraxis": {
         "colorscale": [
          [
           0,
           "rgb(5,48,97)"
          ],
          [
           0.1,
           "rgb(33,102,172)"
          ],
          [
           0.2,
           "rgb(67,147,195)"
          ],
          [
           0.3,
           "rgb(146,197,222)"
          ],
          [
           0.4,
           "rgb(209,229,240)"
          ],
          [
           0.5,
           "rgb(247,247,247)"
          ],
          [
           0.6,
           "rgb(253,219,199)"
          ],
          [
           0.7,
           "rgb(244,165,130)"
          ],
          [
           0.8,
           "rgb(214,96,77)"
          ],
          [
           0.9,
           "rgb(178,24,43)"
          ],
          [
           1,
           "rgb(103,0,31)"
          ]
         ]
        },
        "height": 600,
        "template": {
         "data": {
          "bar": [
           {
            "error_x": {
             "color": "#f2f5fa"
            },
            "error_y": {
             "color": "#f2f5fa"
            },
            "marker": {
             "line": {
              "color": "rgb(17,17,17)",
              "width": 0.5
             },
             "pattern": {
              "fillmode": "overlay",
              "size": 10,
              "solidity": 0.2
             }
            },
            "type": "bar"
           }
          ],
          "barpolar": [
           {
            "marker": {
             "line": {
              "color": "rgb(17,17,17)",
              "width": 0.5
             },
             "pattern": {
              "fillmode": "overlay",
              "size": 10,
              "solidity": 0.2
             }
            },
            "type": "barpolar"
           }
          ],
          "carpet": [
           {
            "aaxis": {
             "endlinecolor": "#A2B1C6",
             "gridcolor": "#506784",
             "linecolor": "#506784",
             "minorgridcolor": "#506784",
             "startlinecolor": "#A2B1C6"
            },
            "baxis": {
             "endlinecolor": "#A2B1C6",
             "gridcolor": "#506784",
             "linecolor": "#506784",
             "minorgridcolor": "#506784",
             "startlinecolor": "#A2B1C6"
            },
            "type": "carpet"
           }
          ],
          "choropleth": [
           {
            "colorbar": {
             "outlinewidth": 0,
             "ticks": ""
            },
            "type": "choropleth"
           }
          ],
          "contour": [
           {
            "colorbar": {
             "outlinewidth": 0,
             "ticks": ""
            },
            "colorscale": [
             [
              0,
              "#0d0887"
             ],
             [
              0.1111111111111111,
              "#46039f"
             ],
             [
              0.2222222222222222,
              "#7201a8"
             ],
             [
              0.3333333333333333,
              "#9c179e"
             ],
             [
              0.4444444444444444,
              "#bd3786"
             ],
             [
              0.5555555555555556,
              "#d8576b"
             ],
             [
              0.6666666666666666,
              "#ed7953"
             ],
             [
              0.7777777777777778,
              "#fb9f3a"
             ],
             [
              0.8888888888888888,
              "#fdca26"
             ],
             [
              1,
              "#f0f921"
             ]
            ],
            "type": "contour"
           }
          ],
          "contourcarpet": [
           {
            "colorbar": {
             "outlinewidth": 0,
             "ticks": ""
            },
            "type": "contourcarpet"
           }
          ],
          "heatmap": [
           {
            "colorbar": {
             "outlinewidth": 0,
             "ticks": ""
            },
            "colorscale": [
             [
              0,
              "#0d0887"
             ],
             [
              0.1111111111111111,
              "#46039f"
             ],
             [
              0.2222222222222222,
              "#7201a8"
             ],
             [
              0.3333333333333333,
              "#9c179e"
             ],
             [
              0.4444444444444444,
              "#bd3786"
             ],
             [
              0.5555555555555556,
              "#d8576b"
             ],
             [
              0.6666666666666666,
              "#ed7953"
             ],
             [
              0.7777777777777778,
              "#fb9f3a"
             ],
             [
              0.8888888888888888,
              "#fdca26"
             ],
             [
              1,
              "#f0f921"
             ]
            ],
            "type": "heatmap"
           }
          ],
          "heatmapgl": [
           {
            "colorbar": {
             "outlinewidth": 0,
             "ticks": ""
            },
            "colorscale": [
             [
              0,
              "#0d0887"
             ],
             [
              0.1111111111111111,
              "#46039f"
             ],
             [
              0.2222222222222222,
              "#7201a8"
             ],
             [
              0.3333333333333333,
              "#9c179e"
             ],
             [
              0.4444444444444444,
              "#bd3786"
             ],
             [
              0.5555555555555556,
              "#d8576b"
             ],
             [
              0.6666666666666666,
              "#ed7953"
             ],
             [
              0.7777777777777778,
              "#fb9f3a"
             ],
             [
              0.8888888888888888,
              "#fdca26"
             ],
             [
              1,
              "#f0f921"
             ]
            ],
            "type": "heatmapgl"
           }
          ],
          "histogram": [
           {
            "marker": {
             "pattern": {
              "fillmode": "overlay",
              "size": 10,
              "solidity": 0.2
             }
            },
            "type": "histogram"
           }
          ],
          "histogram2d": [
           {
            "colorbar": {
             "outlinewidth": 0,
             "ticks": ""
            },
            "colorscale": [
             [
              0,
              "#0d0887"
             ],
             [
              0.1111111111111111,
              "#46039f"
             ],
             [
              0.2222222222222222,
              "#7201a8"
             ],
             [
              0.3333333333333333,
              "#9c179e"
             ],
             [
              0.4444444444444444,
              "#bd3786"
             ],
             [
              0.5555555555555556,
              "#d8576b"
             ],
             [
              0.6666666666666666,
              "#ed7953"
             ],
             [
              0.7777777777777778,
              "#fb9f3a"
             ],
             [
              0.8888888888888888,
              "#fdca26"
             ],
             [
              1,
              "#f0f921"
             ]
            ],
            "type": "histogram2d"
           }
          ],
          "histogram2dcontour": [
           {
            "colorbar": {
             "outlinewidth": 0,
             "ticks": ""
            },
            "colorscale": [
             [
              0,
              "#0d0887"
             ],
             [
              0.1111111111111111,
              "#46039f"
             ],
             [
              0.2222222222222222,
              "#7201a8"
             ],
             [
              0.3333333333333333,
              "#9c179e"
             ],
             [
              0.4444444444444444,
              "#bd3786"
             ],
             [
              0.5555555555555556,
              "#d8576b"
             ],
             [
              0.6666666666666666,
              "#ed7953"
             ],
             [
              0.7777777777777778,
              "#fb9f3a"
             ],
             [
              0.8888888888888888,
              "#fdca26"
             ],
             [
              1,
              "#f0f921"
             ]
            ],
            "type": "histogram2dcontour"
           }
          ],
          "mesh3d": [
           {
            "colorbar": {
             "outlinewidth": 0,
             "ticks": ""
            },
            "type": "mesh3d"
           }
          ],
          "parcoords": [
           {
            "line": {
             "colorbar": {
              "outlinewidth": 0,
              "ticks": ""
             }
            },
            "type": "parcoords"
           }
          ],
          "pie": [
           {
            "automargin": true,
            "type": "pie"
           }
          ],
          "scatter": [
           {
            "marker": {
             "line": {
              "color": "#283442"
             }
            },
            "type": "scatter"
           }
          ],
          "scatter3d": [
           {
            "line": {
             "colorbar": {
              "outlinewidth": 0,
              "ticks": ""
             }
            },
            "marker": {
             "colorbar": {
              "outlinewidth": 0,
              "ticks": ""
             }
            },
            "type": "scatter3d"
           }
          ],
          "scattercarpet": [
           {
            "marker": {
             "colorbar": {
              "outlinewidth": 0,
              "ticks": ""
             }
            },
            "type": "scattercarpet"
           }
          ],
          "scattergeo": [
           {
            "marker": {
             "colorbar": {
              "outlinewidth": 0,
              "ticks": ""
             }
            },
            "type": "scattergeo"
           }
          ],
          "scattergl": [
           {
            "marker": {
             "line": {
              "color": "#283442"
             }
            },
            "type": "scattergl"
           }
          ],
          "scattermapbox": [
           {
            "marker": {
             "colorbar": {
              "outlinewidth": 0,
              "ticks": ""
             }
            },
            "type": "scattermapbox"
           }
          ],
          "scatterpolar": [
           {
            "marker": {
             "colorbar": {
              "outlinewidth": 0,
              "ticks": ""
             }
            },
            "type": "scatterpolar"
           }
          ],
          "scatterpolargl": [
           {
            "marker": {
             "colorbar": {
              "outlinewidth": 0,
              "ticks": ""
             }
            },
            "type": "scatterpolargl"
           }
          ],
          "scatterternary": [
           {
            "marker": {
             "colorbar": {
              "outlinewidth": 0,
              "ticks": ""
             }
            },
            "type": "scatterternary"
           }
          ],
          "surface": [
           {
            "colorbar": {
             "outlinewidth": 0,
             "ticks": ""
            },
            "colorscale": [
             [
              0,
              "#0d0887"
             ],
             [
              0.1111111111111111,
              "#46039f"
             ],
             [
              0.2222222222222222,
              "#7201a8"
             ],
             [
              0.3333333333333333,
              "#9c179e"
             ],
             [
              0.4444444444444444,
              "#bd3786"
             ],
             [
              0.5555555555555556,
              "#d8576b"
             ],
             [
              0.6666666666666666,
              "#ed7953"
             ],
             [
              0.7777777777777778,
              "#fb9f3a"
             ],
             [
              0.8888888888888888,
              "#fdca26"
             ],
             [
              1,
              "#f0f921"
             ]
            ],
            "type": "surface"
           }
          ],
          "table": [
           {
            "cells": {
             "fill": {
              "color": "#506784"
             },
             "line": {
              "color": "rgb(17,17,17)"
             }
            },
            "header": {
             "fill": {
              "color": "#2a3f5f"
             },
             "line": {
              "color": "rgb(17,17,17)"
             }
            },
            "type": "table"
           }
          ]
         },
         "layout": {
          "annotationdefaults": {
           "arrowcolor": "#f2f5fa",
           "arrowhead": 0,
           "arrowwidth": 1
          },
          "autotypenumbers": "strict",
          "coloraxis": {
           "colorbar": {
            "outlinewidth": 0,
            "ticks": ""
           }
          },
          "colorscale": {
           "diverging": [
            [
             0,
             "#8e0152"
            ],
            [
             0.1,
             "#c51b7d"
            ],
            [
             0.2,
             "#de77ae"
            ],
            [
             0.3,
             "#f1b6da"
            ],
            [
             0.4,
             "#fde0ef"
            ],
            [
             0.5,
             "#f7f7f7"
            ],
            [
             0.6,
             "#e6f5d0"
            ],
            [
             0.7,
             "#b8e186"
            ],
            [
             0.8,
             "#7fbc41"
            ],
            [
             0.9,
             "#4d9221"
            ],
            [
             1,
             "#276419"
            ]
           ],
           "sequential": [
            [
             0,
             "#0d0887"
            ],
            [
             0.1111111111111111,
             "#46039f"
            ],
            [
             0.2222222222222222,
             "#7201a8"
            ],
            [
             0.3333333333333333,
             "#9c179e"
            ],
            [
             0.4444444444444444,
             "#bd3786"
            ],
            [
             0.5555555555555556,
             "#d8576b"
            ],
            [
             0.6666666666666666,
             "#ed7953"
            ],
            [
             0.7777777777777778,
             "#fb9f3a"
            ],
            [
             0.8888888888888888,
             "#fdca26"
            ],
            [
             1,
             "#f0f921"
            ]
           ],
           "sequentialminus": [
            [
             0,
             "#0d0887"
            ],
            [
             0.1111111111111111,
             "#46039f"
            ],
            [
             0.2222222222222222,
             "#7201a8"
            ],
            [
             0.3333333333333333,
             "#9c179e"
            ],
            [
             0.4444444444444444,
             "#bd3786"
            ],
            [
             0.5555555555555556,
             "#d8576b"
            ],
            [
             0.6666666666666666,
             "#ed7953"
            ],
            [
             0.7777777777777778,
             "#fb9f3a"
            ],
            [
             0.8888888888888888,
             "#fdca26"
            ],
            [
             1,
             "#f0f921"
            ]
           ]
          },
          "colorway": [
           "#636efa",
           "#EF553B",
           "#00cc96",
           "#ab63fa",
           "#FFA15A",
           "#19d3f3",
           "#FF6692",
           "#B6E880",
           "#FF97FF",
           "#FECB52"
          ],
          "font": {
           "color": "#f2f5fa"
          },
          "geo": {
           "bgcolor": "rgb(17,17,17)",
           "lakecolor": "rgb(17,17,17)",
           "landcolor": "rgb(17,17,17)",
           "showlakes": true,
           "showland": true,
           "subunitcolor": "#506784"
          },
          "hoverlabel": {
           "align": "left"
          },
          "hovermode": "closest",
          "mapbox": {
           "style": "dark"
          },
          "paper_bgcolor": "rgb(17,17,17)",
          "plot_bgcolor": "rgb(17,17,17)",
          "polar": {
           "angularaxis": {
            "gridcolor": "#506784",
            "linecolor": "#506784",
            "ticks": ""
           },
           "bgcolor": "rgb(17,17,17)",
           "radialaxis": {
            "gridcolor": "#506784",
            "linecolor": "#506784",
            "ticks": ""
           }
          },
          "scene": {
           "xaxis": {
            "backgroundcolor": "rgb(17,17,17)",
            "gridcolor": "#506784",
            "gridwidth": 2,
            "linecolor": "#506784",
            "showbackground": true,
            "ticks": "",
            "zerolinecolor": "#C8D4E3"
           },
           "yaxis": {
            "backgroundcolor": "rgb(17,17,17)",
            "gridcolor": "#506784",
            "gridwidth": 2,
            "linecolor": "#506784",
            "showbackground": true,
            "ticks": "",
            "zerolinecolor": "#C8D4E3"
           },
           "zaxis": {
            "backgroundcolor": "rgb(17,17,17)",
            "gridcolor": "#506784",
            "gridwidth": 2,
            "linecolor": "#506784",
            "showbackground": true,
            "ticks": "",
            "zerolinecolor": "#C8D4E3"
           }
          },
          "shapedefaults": {
           "line": {
            "color": "#f2f5fa"
           }
          },
          "sliderdefaults": {
           "bgcolor": "#C8D4E3",
           "bordercolor": "rgb(17,17,17)",
           "borderwidth": 1,
           "tickwidth": 0
          },
          "ternary": {
           "aaxis": {
            "gridcolor": "#506784",
            "linecolor": "#506784",
            "ticks": ""
           },
           "baxis": {
            "gridcolor": "#506784",
            "linecolor": "#506784",
            "ticks": ""
           },
           "bgcolor": "rgb(17,17,17)",
           "caxis": {
            "gridcolor": "#506784",
            "linecolor": "#506784",
            "ticks": ""
           }
          },
          "title": {
           "x": 0.05
          },
          "updatemenudefaults": {
           "bgcolor": "#506784",
           "borderwidth": 0
          },
          "xaxis": {
           "automargin": true,
           "gridcolor": "#283442",
           "linecolor": "#506784",
           "ticks": "",
           "title": {
            "standoff": 15
           },
           "zerolinecolor": "#283442",
           "zerolinewidth": 2
          },
          "yaxis": {
           "automargin": true,
           "gridcolor": "#283442",
           "linecolor": "#506784",
           "ticks": "",
           "title": {
            "standoff": 15
           },
           "zerolinecolor": "#283442",
           "zerolinewidth": 2
          }
         }
        },
        "title": {
         "text": "Spearman Correlation between numerical variables"
        },
        "width": 900,
        "xaxis": {
         "anchor": "y",
         "constrain": "domain",
         "domain": [
          0,
          1
         ],
         "scaleanchor": "y"
        },
        "yaxis": {
         "anchor": "x",
         "autorange": "reversed",
         "constrain": "domain",
         "domain": [
          0,
          1
         ]
        }
       }
      }
     },
     "metadata": {},
     "output_type": "display_data"
    }
   ],
   "source": [
    "px.imshow(mysportsbetting.corr(\"spearman\").round(2), text_auto=True, title=\"Spearman Correlation between numerical variables\", \n",
    "          template=\"plotly_dark\", color_continuous_scale=\"RdBu_r\", width=900, height=600)"
   ]
  },
  {
   "cell_type": "markdown",
   "metadata": {},
   "source": [
    "### Models"
   ]
  },
  {
   "cell_type": "code",
   "execution_count": null,
   "metadata": {},
   "outputs": [
    {
     "name": "stdout",
     "output_type": "stream",
     "text": [
      "Model: SVR\n",
      "Mean Squared Error (MSE): 38779.57157139678\n",
      "R^2 Score: -0.017164726748259085\n",
      "\n",
      "Model: Ridge\n",
      "Mean Squared Error (MSE): 33468.859751406664\n",
      "R^2 Score: 0.12213203487979696\n",
      "\n",
      "Model: Lasso\n",
      "Mean Squared Error (MSE): 33633.629156963514\n",
      "R^2 Score: 0.11781023294675752\n",
      "\n",
      "Model: ElasticNet\n",
      "Mean Squared Error (MSE): 34939.17019594961\n",
      "R^2 Score: 0.08356668046877169\n",
      "\n",
      "Model: RandomForestRegressor\n",
      "Mean Squared Error (MSE): 63789.89683539635\n",
      "R^2 Score: -0.6731704439905062\n",
      "\n",
      "Model: GradientBoostingRegressor\n",
      "Mean Squared Error (MSE): 26767.63210218512\n",
      "R^2 Score: 0.2979011863813539\n",
      "\n",
      "Model: LinearRegression\n",
      "Mean Squared Error (MSE): 30418.194626776836\n",
      "R^2 Score: 0.20214913749738472\n",
      "\n"
     ]
    }
   ],
   "source": [
    "from sklearn.model_selection import train_test_split\n",
    "from sklearn.linear_model import LinearRegression, Ridge, Lasso, ElasticNet\n",
    "from sklearn.ensemble import RandomForestRegressor, GradientBoostingRegressor\n",
    "from sklearn.preprocessing import PolynomialFeatures, StandardScaler\n",
    "from sklearn.svm import SVR\n",
    "from sklearn.pipeline import make_pipeline\n",
    "from sklearn.metrics import mean_squared_error, r2_score\n",
    " \n",
    "selected_columns = mysportsbetting[[\"Winnings\", \"Wager\", \"Purchase_Time_encoded\", \"Sport_Group_encoded\"]]       #Selected columns for the model from mysportsbetting \n",
    " \n",
    "X = selected_columns.drop(columns=[\"Winnings\"])                                                                 #Winnings is the object variable and will be \"y\"\n",
    "y = selected_columns[\"Winnings\"]                         \n",
    " \n",
    "X_train, X_test, y_train, y_test = train_test_split(X, y, test_size=0.2, random_state=42)                       #Division between train(80%) and test(20%)\n",
    " \n",
    "scaler = StandardScaler()                                                                                       #Scaler for models Ridge, Lasso, ElasticNet and PolinomialFeatures\n",
    "scaler.fit(X)\n",
    "X_train_scaled = scaler.fit_transform(X_train)\n",
    "X_test_scaled = scaler.transform(X_test)\n",
    " \n",
    "models = [                                                                                                      #Models list to apply, with scaler when needed\n",
    "    make_pipeline(StandardScaler(), SVR()),\n",
    "    make_pipeline(StandardScaler(), Ridge()),\n",
    "    make_pipeline(StandardScaler(), Lasso()),\n",
    "    make_pipeline(StandardScaler(), ElasticNet()),\n",
    "    RandomForestRegressor(),\n",
    "    GradientBoostingRegressor(n_estimators=300, learning_rate=0.05, max_depth=4, max_features='sqrt', min_samples_leaf=15, min_samples_split=10, loss='huber', random_state=5),\n",
    "    make_pipeline(StandardScaler(), PolynomialFeatures(degree=2), LinearRegression())\n",
    "]\n",
    " \n",
    "model_names = []                                                                                               #Initializa empty list for different results\n",
    "mse_values = []\n",
    "r2_values = []\n",
    " \n",
    "for model in models:                                                                                           #Train and evaluate models from the list\n",
    "    model.fit(X_train_scaled, y_train)                                                                             #Adjust the model\n",
    "    y_pred = model.predict(X_test_scaled)                                                                          #Predictions\n",
    "    mse = mean_squared_error(y_test, y_pred)                                                                       #Calculate squared error   \n",
    "    r2 = r2_score(y_test, y_pred)                                                                                  #Calculate coefficient of determination\n",
    " \n",
    "    model_names.append(type(model).__name__)                                                                  # Add results to their corresponding lists\n",
    "    mse_values.append(mse)\n",
    "    r2_values.append(r2)\n",
    " \n",
    "    print(f\"Model: {model.steps[-1][1].__class__.__name__}\" if hasattr(model, 'steps') else f\"Model: {type(model).__name__}\")        #Print results\n",
    "    print(f\"Mean Squared Error (MSE): {mse}\")\n",
    "    print(f\"R^2 Score: {r2}\")\n",
    "    print()\n"
   ]
  },
  {
   "cell_type": "code",
   "execution_count": null,
   "metadata": {},
   "outputs": [
    {
     "data": {
      "image/png": "[encoded data removed]",
      "text/plain": [
       "<Figure size 1000x600 with 1 Axes>"
      ]
     },
     "metadata": {},
     "output_type": "display_data"
    },
    {
     "data": {
      "image/png": "[encoded data removed]",
      "text/plain": [
       "<Figure size 1000x600 with 1 Axes>"
      ]
     },
     "metadata": {},
     "output_type": "display_data"
    }
   ],
   "source": [
    "import matplotlib.pyplot as plt\n",
    "\n",
    "# Gráfico para Mean Squared Error (MSE)\n",
    "plt.figure(figsize=(10, 6))\n",
    "plt.scatter(model_names, mse_values)\n",
    "plt.ylabel('Mean Squared Error (MSE)')\n",
    "plt.xlabel('Modelo')\n",
    "plt.title('Comparación de MSE entre modelos')\n",
    "plt.xticks(rotation=45, ha='right')\n",
    "plt.show()\n",
    "\n",
    "# Gráfico para R^2 Score\n",
    "plt.figure(figsize=(10, 6))\n",
    "plt.scatter(model_names, r2_values)\n",
    "plt.ylabel('R^2 Score')\n",
    "plt.xlabel('Modelo')\n",
    "plt.title('Comparación de R^2 entre modelos')\n",
    "plt.xticks(rotation=45, ha='right')\n",
    "plt.show()"
   ]
  },
  {
   "cell_type": "code",
   "execution_count": null,
   "metadata": {},
   "outputs": [
    {
     "data": {
      "image/png": "[encoded data removed]",
      "text/plain": [
       "<Figure size 1800x600 with 2 Axes>"
      ]
     },
     "metadata": {},
     "output_type": "display_data"
    }
   ],
   "source": [
    "import matplotlib.pyplot as plt\n",
    "\n",
    "# Crear subplots\n",
    "fig, axs = plt.subplots(1, 2, figsize=(18, 6))\n",
    "\n",
    "# Gráfico para Mean Squared Error (MSE)\n",
    "axs[0].scatter(model_names, mse_values, color='blue')\n",
    "axs[0].set_ylabel('Mean Squared Error (MSE)')\n",
    "axs[0].set_xlabel('Modelo')\n",
    "axs[0].set_title('Comparación de MSE entre modelos')\n",
    "\n",
    "\n",
    "# Gráfico para R^2 Score\n",
    "axs[1].scatter(model_names, r2_values, color='green')\n",
    "axs[1].set_ylabel('R^2 Score')\n",
    "axs[1].set_xlabel('Modelo')\n",
    "axs[1].set_title('Comparación de R^2 entre modelos')\n",
    "\n",
    "\n",
    "plt.tight_layout()\n",
    "plt.show()"
   ]
  },
  {
   "cell_type": "markdown",
   "metadata": {},
   "source": [
    "el MSE es bastante alto, lo que indica que el modelo tiene un error cuadrático medio considerablemente grande. Además, el R^2 Score es negativo, lo que sugiere que el modelo no se ajusta bien a los datos y es probable que esté teniendo un desempeño deficiente en la tarea de predicción. Es posible que se necesite explorar modelos más complejos o realizar más ajustes en los datos para mejorar el rendimiento del modelo."
   ]
  },
  {
   "cell_type": "markdown",
   "metadata": {},
   "source": [
    "## Cleaned Data, applying Normalisation and removing Outliers"
   ]
  },
  {
   "cell_type": "markdown",
   "metadata": {},
   "source": [
    "### csv upload"
   ]
  },
  {
   "cell_type": "code",
   "execution_count": null,
   "metadata": {},
   "outputs": [
    {
     "data": {
      "text/html": [
       "<div>\n",
       "<style scoped>\n",
       "    .dataframe tbody tr th:only-of-type {\n",
       "        vertical-align: middle;\n",
       "    }\n",
       "\n",
       "    .dataframe tbody tr th {\n",
       "        vertical-align: top;\n",
       "    }\n",
       "\n",
       "    .dataframe thead th {\n",
       "        text-align: right;\n",
       "    }\n",
       "</style>\n",
       "<table border=\"1\" class=\"dataframe\">\n",
       "  <thead>\n",
       "    <tr style=\"text-align: right;\">\n",
       "      <th></th>\n",
       "      <th>Sport</th>\n",
       "      <th>Wager</th>\n",
       "      <th>Paid</th>\n",
       "      <th>Winnings</th>\n",
       "      <th>Hold</th>\n",
       "      <th>Purchase_Time</th>\n",
       "      <th>Competition</th>\n",
       "      <th>Event</th>\n",
       "      <th>Event_Date</th>\n",
       "      <th>Gender_Competition</th>\n",
       "      <th>Sport_Group</th>\n",
       "      <th>Month</th>\n",
       "      <th>Day_of_Week</th>\n",
       "      <th>Month_Name</th>\n",
       "      <th>Day_of_Week_Name</th>\n",
       "      <th>Sport_encoded</th>\n",
       "      <th>Purchase_Time_encoded</th>\n",
       "      <th>Competition_encoded</th>\n",
       "      <th>Event_encoded</th>\n",
       "      <th>Sport_Group_encoded</th>\n",
       "    </tr>\n",
       "  </thead>\n",
       "  <tbody>\n",
       "    <tr>\n",
       "      <th>0</th>\n",
       "      <td>Basketball</td>\n",
       "      <td>-0.101985</td>\n",
       "      <td>0.0</td>\n",
       "      <td>-0.012107</td>\n",
       "      <td>0.0</td>\n",
       "      <td>Prematch</td>\n",
       "      <td>Germany Bundesliga</td>\n",
       "      <td>Alba Berlín - BG Gottingen</td>\n",
       "      <td>2024-02-13</td>\n",
       "      <td>Male</td>\n",
       "      <td>Basketball</td>\n",
       "      <td>0.0</td>\n",
       "      <td>-1.000000</td>\n",
       "      <td>February</td>\n",
       "      <td>Tuesday</td>\n",
       "      <td>3</td>\n",
       "      <td>1</td>\n",
       "      <td>504</td>\n",
       "      <td>1186</td>\n",
       "      <td>0</td>\n",
       "    </tr>\n",
       "    <tr>\n",
       "      <th>1</th>\n",
       "      <td>Basketball</td>\n",
       "      <td>2.186880</td>\n",
       "      <td>0.0</td>\n",
       "      <td>5.014528</td>\n",
       "      <td>0.0</td>\n",
       "      <td>Prematch</td>\n",
       "      <td>Germany Bundesliga</td>\n",
       "      <td>Alba Berlín - EWE Baskets Oldenburg</td>\n",
       "      <td>2024-03-03</td>\n",
       "      <td>Male</td>\n",
       "      <td>Basketball</td>\n",
       "      <td>0.5</td>\n",
       "      <td>0.666667</td>\n",
       "      <td>March</td>\n",
       "      <td>Sunday</td>\n",
       "      <td>3</td>\n",
       "      <td>1</td>\n",
       "      <td>504</td>\n",
       "      <td>1188</td>\n",
       "      <td>0</td>\n",
       "    </tr>\n",
       "  </tbody>\n",
       "</table>\n",
       "</div>"
      ],
      "text/plain": [
       "        Sport     Wager  Paid  Winnings  Hold Purchase_Time  \\\n",
       "0  Basketball -0.101985   0.0 -0.012107   0.0      Prematch   \n",
       "1  Basketball  2.186880   0.0  5.014528   0.0      Prematch   \n",
       "\n",
       "          Competition                                Event  Event_Date  \\\n",
       "0  Germany Bundesliga           Alba Berlín - BG Gottingen  2024-02-13   \n",
       "1  Germany Bundesliga  Alba Berlín - EWE Baskets Oldenburg  2024-03-03   \n",
       "\n",
       "  Gender_Competition Sport_Group  Month  Day_of_Week Month_Name  \\\n",
       "0               Male  Basketball    0.0    -1.000000   February   \n",
       "1               Male  Basketball    0.5     0.666667      March   \n",
       "\n",
       "  Day_of_Week_Name  Sport_encoded  Purchase_Time_encoded  Competition_encoded  \\\n",
       "0          Tuesday              3                      1                  504   \n",
       "1           Sunday              3                      1                  504   \n",
       "\n",
       "   Event_encoded  Sport_Group_encoded  \n",
       "0           1186                    0  \n",
       "1           1188                    0  "
      ]
     },
     "execution_count": 22,
     "metadata": {},
     "output_type": "execute_result"
    }
   ],
   "source": [
    "mysportsbetting_filtered=pd.read_csv(\"Data/mysportsbetting_filtered.csv\")                    # .csv upload\n",
    "mysportsbetting_filtered.head(2)"
   ]
  },
  {
   "cell_type": "markdown",
   "metadata": {},
   "source": [
    "### Correlation overview"
   ]
  },
  {
   "cell_type": "code",
   "execution_count": null,
   "metadata": {},
   "outputs": [
    {
     "name": "stderr",
     "output_type": "stream",
     "text": [
      "C:\\Users\\mayin\\AppData\\Local\\Temp\\ipykernel_14824\\848038763.py:1: FutureWarning:\n",
      "\n",
      "The default value of numeric_only in DataFrame.corr is deprecated. In a future version, it will default to False. Select only valid columns or specify the value of numeric_only to silence this warning.\n",
      "\n"
     ]
    },
    {
     "data": {
      "application/vnd.plotly.v1+json": {
       "config": {
        "plotlyServerURL": "https://plot.ly"
       },
       "data": [
        {
         "coloraxis": "coloraxis",
         "hovertemplate": "x: %{x}<br>y: %{y}<br>color: %{z}<extra></extra>",
         "name": "0",
         "texttemplate": "%{z}",
         "type": "heatmap",
         "x": [
          "Wager",
          "Paid",
          "Winnings",
          "Hold",
          "Month",
          "Day_of_Week",
          "Sport_encoded",
          "Purchase_Time_encoded",
          "Competition_encoded",
          "Event_encoded",
          "Sport_Group_encoded"
         ],
         "xaxis": "x",
         "y": [
          "Wager",
          "Paid",
          "Winnings",
          "Hold",
          "Month",
          "Day_of_Week",
          "Sport_encoded",
          "Purchase_Time_encoded",
          "Competition_encoded",
          "Event_encoded",
          "Sport_Group_encoded"
         ],
         "yaxis": "y",
         "z": [
          [
           1,
           0.26,
           0.69,
           -0.15,
           -0.06,
           -0.1,
           0.03,
           -0.15,
           0.04,
           0.03,
           0.04
          ],
          [
           0.26,
           1,
           -0.36,
           -0.97,
           0,
           0,
           0.01,
           0.02,
           0,
           0,
           0.01
          ],
          [
           0.69,
           -0.36,
           1,
           0.44,
           -0.04,
           -0.06,
           -0.01,
           -0.12,
           0.06,
           0.02,
           0
          ],
          [
           -0.15,
           -0.97,
           0.44,
           1,
           -0.01,
           -0.01,
           -0.01,
           -0.06,
           0.01,
           0,
           -0.01
          ],
          [
           -0.06,
           0,
           -0.04,
           -0.01,
           1,
           0.08,
           0,
           0.01,
           0.02,
           0.01,
           -0.01
          ],
          [
           -0.1,
           0,
           -0.06,
           -0.01,
           0.08,
           1,
           -0.11,
           0.07,
           0.16,
           0.03,
           -0.11
          ],
          [
           0.03,
           0.01,
           -0.01,
           -0.01,
           0,
           -0.11,
           1,
           0.11,
           -0.24,
           0.07,
           0.96
          ],
          [
           -0.15,
           0.02,
           -0.12,
           -0.06,
           0.01,
           0.07,
           0.11,
           1,
           -0.05,
           0.04,
           0.11
          ],
          [
           0.04,
           0,
           0.06,
           0.01,
           0.02,
           0.16,
           -0.24,
           -0.05,
           1,
           0,
           -0.22
          ],
          [
           0.03,
           0,
           0.02,
           0,
           0.01,
           0.03,
           0.07,
           0.04,
           0,
           1,
           0.07
          ],
          [
           0.04,
           0.01,
           0,
           -0.01,
           -0.01,
           -0.11,
           0.96,
           0.11,
           -0.22,
           0.07,
           1
          ]
         ]
        }
       ],
       "layout": {
        "coloraxis": {
         "colorscale": [
          [
           0,
           "rgb(5,48,97)"
          ],
          [
           0.1,
           "rgb(33,102,172)"
          ],
          [
           0.2,
           "rgb(67,147,195)"
          ],
          [
           0.3,
           "rgb(146,197,222)"
          ],
          [
           0.4,
           "rgb(209,229,240)"
          ],
          [
           0.5,
           "rgb(247,247,247)"
          ],
          [
           0.6,
           "rgb(253,219,199)"
          ],
          [
           0.7,
           "rgb(244,165,130)"
          ],
          [
           0.8,
           "rgb(214,96,77)"
          ],
          [
           0.9,
           "rgb(178,24,43)"
          ],
          [
           1,
           "rgb(103,0,31)"
          ]
         ]
        },
        "height": 600,
        "template": {
         "data": {
          "bar": [
           {
            "error_x": {
             "color": "#f2f5fa"
            },
            "error_y": {
             "color": "#f2f5fa"
            },
            "marker": {
             "line": {
              "color": "rgb(17,17,17)",
              "width": 0.5
             },
             "pattern": {
              "fillmode": "overlay",
              "size": 10,
              "solidity": 0.2
             }
            },
            "type": "bar"
           }
          ],
          "barpolar": [
           {
            "marker": {
             "line": {
              "color": "rgb(17,17,17)",
              "width": 0.5
             },
             "pattern": {
              "fillmode": "overlay",
              "size": 10,
              "solidity": 0.2
             }
            },
            "type": "barpolar"
           }
          ],
          "carpet": [
           {
            "aaxis": {
             "endlinecolor": "#A2B1C6",
             "gridcolor": "#506784",
             "linecolor": "#506784",
             "minorgridcolor": "#506784",
             "startlinecolor": "#A2B1C6"
            },
            "baxis": {
             "endlinecolor": "#A2B1C6",
             "gridcolor": "#506784",
             "linecolor": "#506784",
             "minorgridcolor": "#506784",
             "startlinecolor": "#A2B1C6"
            },
            "type": "carpet"
           }
          ],
          "choropleth": [
           {
            "colorbar": {
             "outlinewidth": 0,
             "ticks": ""
            },
            "type": "choropleth"
           }
          ],
          "contour": [
           {
            "colorbar": {
             "outlinewidth": 0,
             "ticks": ""
            },
            "colorscale": [
             [
              0,
              "#0d0887"
             ],
             [
              0.1111111111111111,
              "#46039f"
             ],
             [
              0.2222222222222222,
              "#7201a8"
             ],
             [
              0.3333333333333333,
              "#9c179e"
             ],
             [
              0.4444444444444444,
              "#bd3786"
             ],
             [
              0.5555555555555556,
              "#d8576b"
             ],
             [
              0.6666666666666666,
              "#ed7953"
             ],
             [
              0.7777777777777778,
              "#fb9f3a"
             ],
             [
              0.8888888888888888,
              "#fdca26"
             ],
             [
              1,
              "#f0f921"
             ]
            ],
            "type": "contour"
           }
          ],
          "contourcarpet": [
           {
            "colorbar": {
             "outlinewidth": 0,
             "ticks": ""
            },
            "type": "contourcarpet"
           }
          ],
          "heatmap": [
           {
            "colorbar": {
             "outlinewidth": 0,
             "ticks": ""
            },
            "colorscale": [
             [
              0,
              "#0d0887"
             ],
             [
              0.1111111111111111,
              "#46039f"
             ],
             [
              0.2222222222222222,
              "#7201a8"
             ],
             [
              0.3333333333333333,
              "#9c179e"
             ],
             [
              0.4444444444444444,
              "#bd3786"
             ],
             [
              0.5555555555555556,
              "#d8576b"
             ],
             [
              0.6666666666666666,
              "#ed7953"
             ],
             [
              0.7777777777777778,
              "#fb9f3a"
             ],
             [
              0.8888888888888888,
              "#fdca26"
             ],
             [
              1,
              "#f0f921"
             ]
            ],
            "type": "heatmap"
           }
          ],
          "heatmapgl": [
           {
            "colorbar": {
             "outlinewidth": 0,
             "ticks": ""
            },
            "colorscale": [
             [
              0,
              "#0d0887"
             ],
             [
              0.1111111111111111,
              "#46039f"
             ],
             [
              0.2222222222222222,
              "#7201a8"
             ],
             [
              0.3333333333333333,
              "#9c179e"
             ],
             [
              0.4444444444444444,
              "#bd3786"
             ],
             [
              0.5555555555555556,
              "#d8576b"
             ],
             [
              0.6666666666666666,
              "#ed7953"
             ],
             [
              0.7777777777777778,
              "#fb9f3a"
             ],
             [
              0.8888888888888888,
              "#fdca26"
             ],
             [
              1,
              "#f0f921"
             ]
            ],
            "type": "heatmapgl"
           }
          ],
          "histogram": [
           {
            "marker": {
             "pattern": {
              "fillmode": "overlay",
              "size": 10,
              "solidity": 0.2
             }
            },
            "type": "histogram"
           }
          ],
          "histogram2d": [
           {
            "colorbar": {
             "outlinewidth": 0,
             "ticks": ""
            },
            "colorscale": [
             [
              0,
              "#0d0887"
             ],
             [
              0.1111111111111111,
              "#46039f"
             ],
             [
              0.2222222222222222,
              "#7201a8"
             ],
             [
              0.3333333333333333,
              "#9c179e"
             ],
             [
              0.4444444444444444,
              "#bd3786"
             ],
             [
              0.5555555555555556,
              "#d8576b"
             ],
             [
              0.6666666666666666,
              "#ed7953"
             ],
             [
              0.7777777777777778,
              "#fb9f3a"
             ],
             [
              0.8888888888888888,
              "#fdca26"
             ],
             [
              1,
              "#f0f921"
             ]
            ],
            "type": "histogram2d"
           }
          ],
          "histogram2dcontour": [
           {
            "colorbar": {
             "outlinewidth": 0,
             "ticks": ""
            },
            "colorscale": [
             [
              0,
              "#0d0887"
             ],
             [
              0.1111111111111111,
              "#46039f"
             ],
             [
              0.2222222222222222,
              "#7201a8"
             ],
             [
              0.3333333333333333,
              "#9c179e"
             ],
             [
              0.4444444444444444,
              "#bd3786"
             ],
             [
              0.5555555555555556,
              "#d8576b"
             ],
             [
              0.6666666666666666,
              "#ed7953"
             ],
             [
              0.7777777777777778,
              "#fb9f3a"
             ],
             [
              0.8888888888888888,
              "#fdca26"
             ],
             [
              1,
              "#f0f921"
             ]
            ],
            "type": "histogram2dcontour"
           }
          ],
          "mesh3d": [
           {
            "colorbar": {
             "outlinewidth": 0,
             "ticks": ""
            },
            "type": "mesh3d"
           }
          ],
          "parcoords": [
           {
            "line": {
             "colorbar": {
              "outlinewidth": 0,
              "ticks": ""
             }
            },
            "type": "parcoords"
           }
          ],
          "pie": [
           {
            "automargin": true,
            "type": "pie"
           }
          ],
          "scatter": [
           {
            "marker": {
             "line": {
              "color": "#283442"
             }
            },
            "type": "scatter"
           }
          ],
          "scatter3d": [
           {
            "line": {
             "colorbar": {
              "outlinewidth": 0,
              "ticks": ""
             }
            },
            "marker": {
             "colorbar": {
              "outlinewidth": 0,
              "ticks": ""
             }
            },
            "type": "scatter3d"
           }
          ],
          "scattercarpet": [
           {
            "marker": {
             "colorbar": {
              "outlinewidth": 0,
              "ticks": ""
             }
            },
            "type": "scattercarpet"
           }
          ],
          "scattergeo": [
           {
            "marker": {
             "colorbar": {
              "outlinewidth": 0,
              "ticks": ""
             }
            },
            "type": "scattergeo"
           }
          ],
          "scattergl": [
           {
            "marker": {
             "line": {
              "color": "#283442"
             }
            },
            "type": "scattergl"
           }
          ],
          "scattermapbox": [
           {
            "marker": {
             "colorbar": {
              "outlinewidth": 0,
              "ticks": ""
             }
            },
            "type": "scattermapbox"
           }
          ],
          "scatterpolar": [
           {
            "marker": {
             "colorbar": {
              "outlinewidth": 0,
              "ticks": ""
             }
            },
            "type": "scatterpolar"
           }
          ],
          "scatterpolargl": [
           {
            "marker": {
             "colorbar": {
              "outlinewidth": 0,
              "ticks": ""
             }
            },
            "type": "scatterpolargl"
           }
          ],
          "scatterternary": [
           {
            "marker": {
             "colorbar": {
              "outlinewidth": 0,
              "ticks": ""
             }
            },
            "type": "scatterternary"
           }
          ],
          "surface": [
           {
            "colorbar": {
             "outlinewidth": 0,
             "ticks": ""
            },
            "colorscale": [
             [
              0,
              "#0d0887"
             ],
             [
              0.1111111111111111,
              "#46039f"
             ],
             [
              0.2222222222222222,
              "#7201a8"
             ],
             [
              0.3333333333333333,
              "#9c179e"
             ],
             [
              0.4444444444444444,
              "#bd3786"
             ],
             [
              0.5555555555555556,
              "#d8576b"
             ],
             [
              0.6666666666666666,
              "#ed7953"
             ],
             [
              0.7777777777777778,
              "#fb9f3a"
             ],
             [
              0.8888888888888888,
              "#fdca26"
             ],
             [
              1,
              "#f0f921"
             ]
            ],
            "type": "surface"
           }
          ],
          "table": [
           {
            "cells": {
             "fill": {
              "color": "#506784"
             },
             "line": {
              "color": "rgb(17,17,17)"
             }
            },
            "header": {
             "fill": {
              "color": "#2a3f5f"
             },
             "line": {
              "color": "rgb(17,17,17)"
             }
            },
            "type": "table"
           }
          ]
         },
         "layout": {
          "annotationdefaults": {
           "arrowcolor": "#f2f5fa",
           "arrowhead": 0,
           "arrowwidth": 1
          },
          "autotypenumbers": "strict",
          "coloraxis": {
           "colorbar": {
            "outlinewidth": 0,
            "ticks": ""
           }
          },
          "colorscale": {
           "diverging": [
            [
             0,
             "#8e0152"
            ],
            [
             0.1,
             "#c51b7d"
            ],
            [
             0.2,
             "#de77ae"
            ],
            [
             0.3,
             "#f1b6da"
            ],
            [
             0.4,
             "#fde0ef"
            ],
            [
             0.5,
             "#f7f7f7"
            ],
            [
             0.6,
             "#e6f5d0"
            ],
            [
             0.7,
             "#b8e186"
            ],
            [
             0.8,
             "#7fbc41"
            ],
            [
             0.9,
             "#4d9221"
            ],
            [
             1,
             "#276419"
            ]
           ],
           "sequential": [
            [
             0,
             "#0d0887"
            ],
            [
             0.1111111111111111,
             "#46039f"
            ],
            [
             0.2222222222222222,
             "#7201a8"
            ],
            [
             0.3333333333333333,
             "#9c179e"
            ],
            [
             0.4444444444444444,
             "#bd3786"
            ],
            [
             0.5555555555555556,
             "#d8576b"
            ],
            [
             0.6666666666666666,
             "#ed7953"
            ],
            [
             0.7777777777777778,
             "#fb9f3a"
            ],
            [
             0.8888888888888888,
             "#fdca26"
            ],
            [
             1,
             "#f0f921"
            ]
           ],
           "sequentialminus": [
            [
             0,
             "#0d0887"
            ],
            [
             0.1111111111111111,
             "#46039f"
            ],
            [
             0.2222222222222222,
             "#7201a8"
            ],
            [
             0.3333333333333333,
             "#9c179e"
            ],
            [
             0.4444444444444444,
             "#bd3786"
            ],
            [
             0.5555555555555556,
             "#d8576b"
            ],
            [
             0.6666666666666666,
             "#ed7953"
            ],
            [
             0.7777777777777778,
             "#fb9f3a"
            ],
            [
             0.8888888888888888,
             "#fdca26"
            ],
            [
             1,
             "#f0f921"
            ]
           ]
          },
          "colorway": [
           "#636efa",
           "#EF553B",
           "#00cc96",
           "#ab63fa",
           "#FFA15A",
           "#19d3f3",
           "#FF6692",
           "#B6E880",
           "#FF97FF",
           "#FECB52"
          ],
          "font": {
           "color": "#f2f5fa"
          },
          "geo": {
           "bgcolor": "rgb(17,17,17)",
           "lakecolor": "rgb(17,17,17)",
           "landcolor": "rgb(17,17,17)",
           "showlakes": true,
           "showland": true,
           "subunitcolor": "#506784"
          },
          "hoverlabel": {
           "align": "left"
          },
          "hovermode": "closest",
          "mapbox": {
           "style": "dark"
          },
          "paper_bgcolor": "rgb(17,17,17)",
          "plot_bgcolor": "rgb(17,17,17)",
          "polar": {
           "angularaxis": {
            "gridcolor": "#506784",
            "linecolor": "#506784",
            "ticks": ""
           },
           "bgcolor": "rgb(17,17,17)",
           "radialaxis": {
            "gridcolor": "#506784",
            "linecolor": "#506784",
            "ticks": ""
           }
          },
          "scene": {
           "xaxis": {
            "backgroundcolor": "rgb(17,17,17)",
            "gridcolor": "#506784",
            "gridwidth": 2,
            "linecolor": "#506784",
            "showbackground": true,
            "ticks": "",
            "zerolinecolor": "#C8D4E3"
           },
           "yaxis": {
            "backgroundcolor": "rgb(17,17,17)",
            "gridcolor": "#506784",
            "gridwidth": 2,
            "linecolor": "#506784",
            "showbackground": true,
            "ticks": "",
            "zerolinecolor": "#C8D4E3"
           },
           "zaxis": {
            "backgroundcolor": "rgb(17,17,17)",
            "gridcolor": "#506784",
            "gridwidth": 2,
            "linecolor": "#506784",
            "showbackground": true,
            "ticks": "",
            "zerolinecolor": "#C8D4E3"
           }
          },
          "shapedefaults": {
           "line": {
            "color": "#f2f5fa"
           }
          },
          "sliderdefaults": {
           "bgcolor": "#C8D4E3",
           "bordercolor": "rgb(17,17,17)",
           "borderwidth": 1,
           "tickwidth": 0
          },
          "ternary": {
           "aaxis": {
            "gridcolor": "#506784",
            "linecolor": "#506784",
            "ticks": ""
           },
           "baxis": {
            "gridcolor": "#506784",
            "linecolor": "#506784",
            "ticks": ""
           },
           "bgcolor": "rgb(17,17,17)",
           "caxis": {
            "gridcolor": "#506784",
            "linecolor": "#506784",
            "ticks": ""
           }
          },
          "title": {
           "x": 0.05
          },
          "updatemenudefaults": {
           "bgcolor": "#506784",
           "borderwidth": 0
          },
          "xaxis": {
           "automargin": true,
           "gridcolor": "#283442",
           "linecolor": "#506784",
           "ticks": "",
           "title": {
            "standoff": 15
           },
           "zerolinecolor": "#283442",
           "zerolinewidth": 2
          },
          "yaxis": {
           "automargin": true,
           "gridcolor": "#283442",
           "linecolor": "#506784",
           "ticks": "",
           "title": {
            "standoff": 15
           },
           "zerolinecolor": "#283442",
           "zerolinewidth": 2
          }
         }
        },
        "title": {
         "text": "Spearman Correlation between numerical variables"
        },
        "width": 900,
        "xaxis": {
         "anchor": "y",
         "constrain": "domain",
         "domain": [
          0,
          1
         ],
         "scaleanchor": "y"
        },
        "yaxis": {
         "anchor": "x",
         "autorange": "reversed",
         "constrain": "domain",
         "domain": [
          0,
          1
         ]
        }
       }
      }
     },
     "metadata": {},
     "output_type": "display_data"
    }
   ],
   "source": [
    "px.imshow(mysportsbetting_filtered.corr(\"spearman\").round(2), text_auto=True, title=\"Spearman Correlation between numerical variables\", \n",
    "          template=\"plotly_dark\", color_continuous_scale=\"RdBu_r\", width=900, height=600)"
   ]
  },
  {
   "cell_type": "markdown",
   "metadata": {},
   "source": [
    "### Models"
   ]
  },
  {
   "cell_type": "code",
   "execution_count": null,
   "metadata": {},
   "outputs": [],
   "source": [
    "from sklearn.model_selection import train_test_split\n",
    "from sklearn.linear_model import LinearRegression, Ridge, Lasso, ElasticNet\n",
    "from sklearn.ensemble import RandomForestRegressor, GradientBoostingRegressor\n",
    "from sklearn.preprocessing import PolynomialFeatures, StandardScaler\n",
    "from sklearn.svm import SVR\n",
    "from sklearn.pipeline import make_pipeline\n",
    "from sklearn.metrics import mean_squared_error, r2_score\n",
    " \n",
    "selected_columns = mysportsbetting_filtered[[\"Winnings\", \"Wager\", \"Purchase_Time_encoded\", \"Sport_Group_encoded\"]]       #Selected columns for the model from mysportsbetting \n",
    " \n",
    "X = selected_columns.drop(columns=[\"Winnings\"])                                                                 #Winnings is the object variable and will be \"y\"\n",
    "y = selected_columns[\"Winnings\"]                         \n",
    " \n",
    "X_train, X_test, y_train, y_test = train_test_split(X, y, test_size=0.2, random_state=42)                       #Division between train(80%) and test(20%)\n",
    " \n",
    "scaler = StandardScaler()                                                                                       #Scaler for models Ridge, Lasso, ElasticNet and PolinomialFeatures\n",
    "scaler.fit(X)\n",
    "X_train_scaled = scaler.fit_transform(X_train)\n",
    "X_test_scaled = scaler.transform(X_test)\n",
    " \n",
    "models = [                                                                                                      #Models list to apply, with scaler when needed\n",
    "    make_pipeline(StandardScaler(), SVR()),\n",
    "    make_pipeline(StandardScaler(), Ridge()),\n",
    "    make_pipeline(StandardScaler(), Lasso()),\n",
    "    make_pipeline(StandardScaler(), ElasticNet()),\n",
    "    RandomForestRegressor(),\n",
    "    GradientBoostingRegressor(n_estimators=300, learning_rate=0.05, max_depth=4, max_features='sqrt', min_samples_leaf=15, min_samples_split=10, loss='huber', random_state=5),\n",
    "    make_pipeline(StandardScaler(), PolynomialFeatures(degree=2), LinearRegression())\n",
    "]\n",
    " \n",
    "model_names = []                                                                                               #Initializa empty list for different results\n",
    "mse_values = []\n",
    "r2_values = []\n",
    " \n",
    "for model in models:                                                                                           #Train and evaluate models from the list\n",
    "    model.fit(X_train_scaled, y_train)                                                                             #Adjust the model\n",
    "    y_pred = model.predict(X_test_scaled)                                                                          #Predictions\n",
    "    mse = mean_squared_error(y_test, y_pred)                                                                       #Calculate squared error   \n",
    "    r2 = r2_score(y_test, y_pred)                                                                                  #Calculate coefficient of determination\n",
    " \n",
    "    model_names.append(type(model).__name__)                                                                  # Add results to their corresponding lists\n",
    "    mse_values.append(mse)\n",
    "    r2_values.append(r2)\n",
    " \n",
    "    print(f\"Model: {model.steps[-1][1].__class__.__name__}\" if hasattr(model, 'steps') else f\"Model: {type(model).__name__}\")        #Print results\n",
    "    print(f\"Mean Squared Error (MSE): {mse}\")\n",
    "    print(f\"R^2 Score: {r2}\")\n",
    "    print()\n"
   ]
  },
  {
   "cell_type": "code",
   "execution_count": null,
   "metadata": {},
   "outputs": [],
   "source": [
    "from scipy import stats\n",
    "import numpy as np\n",
    "import pandas as pd\n",
    "\n",
    "\n",
    "selected_columns = mysportsbetting_filtered[[\"Winnings\", \"Wager\", \"Purchase_Time_encoded\", \"Sport_Group_encoded\"]]\n",
    "\n",
    "z = np.abs(stats.zscore(selected_columns))\n",
    "\n",
    "# Definimos un umbral para identificar los valores atípicos\n",
    "threshold = 3  # Generalmente un Z-Score de 3 se considera un valor atípico\n",
    "\n",
    "# Obtenemos un arreglo booleano donde true indica la presencia de un valor atípico\n",
    "outliers = z > threshold\n",
    "\n",
    "# Filtramos las observaciones sin valores atípicos\n",
    "cleaned_data = selected_columns[(z < threshold).all(axis=1)]\n",
    "\n",
    "# Continuamos con la división de los datos en conjuntos de entrenamiento y prueba usando 'cleaned_data'\n",
    "X = cleaned_data.drop(columns=[\"Winnings\"])\n",
    "y = cleaned_data[\"Winnings\"]\n",
    "\n",
    "X_train, X_test, y_train, y_test = train_test_split(X, y, test_size=0.2, random_state=42)"
   ]
  },
  {
   "cell_type": "code",
   "execution_count": null,
   "metadata": {},
   "outputs": [
    {
     "name": "stdout",
     "output_type": "stream",
     "text": [
      "Model: Ridge\n",
      "Best Parameters: {'alpha': 0.001}\n",
      "Mean Squared Error (MSE): 114.67154890401554\n",
      "R^2 Score: 0.7208105954847511\n",
      "\n",
      "Model: Lasso\n",
      "Best Parameters: {'alpha': 0.001}\n",
      "Mean Squared Error (MSE): 114.67316976340037\n",
      "R^2 Score: 0.7208066491984162\n",
      "\n",
      "Model: RandomForestRegressor\n",
      "Best Parameters: {'max_depth': 10, 'n_estimators': 300}\n",
      "Mean Squared Error (MSE): 99.15367993520152\n",
      "R^2 Score: 0.7585917594975896\n",
      "\n",
      "Model: GradientBoostingRegressor\n",
      "Best Parameters: {'learning_rate': 0.05, 'n_estimators': 100}\n",
      "Mean Squared Error (MSE): 113.34975494511002\n",
      "R^2 Score: 0.72402875091917\n",
      "\n",
      "Best Model: RandomForestRegressor\n"
     ]
    }
   ],
   "source": [
    "from sklearn.model_selection import train_test_split, GridSearchCV\n",
    "from sklearn.linear_model import Ridge, Lasso\n",
    "from sklearn.ensemble import RandomForestRegressor, GradientBoostingRegressor\n",
    "from sklearn.preprocessing import StandardScaler\n",
    "from sklearn.metrics import mean_squared_error, r2_score\n",
    "import numpy as np\n",
    "\n",
    "selected_columns = mysportsbetting_filtered[[\"Wager\", \"Purchase_Time_encoded\", \"Sport_Group_encoded\"]]\n",
    "X = selected_columns\n",
    "y = mysportsbetting_filtered[\"Winnings\"]\n",
    "\n",
    "# Dividir los datos en conjuntos de entrenamiento y prueba\n",
    "X_train, X_test, y_train, y_test = train_test_split(X, y, test_size=0.2, random_state=42)\n",
    "\n",
    "# Escalar características\n",
    "scaler = StandardScaler()\n",
    "X_train_scaled = scaler.fit_transform(X_train)\n",
    "X_test_scaled = scaler.transform(X_test)\n",
    "\n",
    "# Definir modelos\n",
    "models = [\n",
    "    Ridge(),\n",
    "    Lasso(),\n",
    "    RandomForestRegressor(),\n",
    "    GradientBoostingRegressor()\n",
    "]\n",
    "\n",
    "# Definir grillas de hiperparámetros\n",
    "param_grid_ridge = {'alpha': [0.001, 0.01, 0.1, 1, 10]}\n",
    "param_grid_lasso = {'alpha': [0.001, 0.01, 0.1, 1, 10]}\n",
    "param_grid_rf = {'n_estimators': [100, 200, 300], 'max_depth': [None, 10, 20]}\n",
    "param_grid_gb = {'n_estimators': [100, 200, 300], 'learning_rate': [0.05, 0.1, 0.2]}\n",
    "\n",
    "param_grids = [param_grid_ridge, param_grid_lasso, param_grid_rf, param_grid_gb]\n",
    "\n",
    "best_models = []\n",
    "\n",
    "# Entrenar y evaluar modelos\n",
    "for model, param_grid in zip(models, param_grids):\n",
    "    grid_search = GridSearchCV(model, param_grid, cv=5, scoring='neg_mean_squared_error')\n",
    "    grid_search.fit(X_train_scaled, y_train)\n",
    "    best_model = grid_search.best_estimator_\n",
    "    best_models.append(best_model)\n",
    "    y_pred = best_model.predict(X_test_scaled)\n",
    "    mse = mean_squared_error(y_test, y_pred)\n",
    "    r2 = r2_score(y_test, y_pred)\n",
    "    \n",
    "    print(f\"Model: {type(best_model).__name__}\")\n",
    "    print(f\"Best Parameters: {grid_search.best_params_}\")\n",
    "    print(f\"Mean Squared Error (MSE): {mse}\")\n",
    "    print(f\"R^2 Score: {r2}\")\n",
    "    print()\n",
    "\n",
    "# Seleccionar el mejor modelo\n",
    "best_model_idx = np.argmin([mean_squared_error(y_test, model.predict(X_test_scaled)) for model in best_models])\n",
    "best_model = best_models[best_model_idx]\n",
    "print(f\"Best Model: {type(best_model).__name__}\")"
   ]
  },
  {
   "cell_type": "code",
   "execution_count": null,
   "metadata": {},
   "outputs": [
    {
     "name": "stderr",
     "output_type": "stream",
     "text": [
      "c:\\Users\\mayin\\AppData\\Local\\Programs\\Python\\Python310\\lib\\site-packages\\sklearn\\model_selection\\_validation.py:547: FitFailedWarning:\n",
      "\n",
      "\n",
      "810 fits failed out of a total of 2430.\n",
      "The score on these train-test partitions for these parameters will be set to nan.\n",
      "If these failures are not expected, you can try to debug them by setting error_score='raise'.\n",
      "\n",
      "Below are more details about the failures:\n",
      "--------------------------------------------------------------------------------\n",
      "810 fits failed with the following error:\n",
      "Traceback (most recent call last):\n",
      "  File \"c:\\Users\\mayin\\AppData\\Local\\Programs\\Python\\Python310\\lib\\site-packages\\sklearn\\model_selection\\_validation.py\", line 895, in _fit_and_score\n",
      "    estimator.fit(X_train, y_train, **fit_params)\n",
      "  File \"c:\\Users\\mayin\\AppData\\Local\\Programs\\Python\\Python310\\lib\\site-packages\\sklearn\\base.py\", line 1467, in wrapper\n",
      "    estimator._validate_params()\n",
      "  File \"c:\\Users\\mayin\\AppData\\Local\\Programs\\Python\\Python310\\lib\\site-packages\\sklearn\\base.py\", line 666, in _validate_params\n",
      "    validate_parameter_constraints(\n",
      "  File \"c:\\Users\\mayin\\AppData\\Local\\Programs\\Python\\Python310\\lib\\site-packages\\sklearn\\utils\\_param_validation.py\", line 95, in validate_parameter_constraints\n",
      "    raise InvalidParameterError(\n",
      "sklearn.utils._param_validation.InvalidParameterError: The 'max_features' parameter of RandomForestRegressor must be an int in the range [1, inf), a float in the range (0.0, 1.0], a str among {'sqrt', 'log2'} or None. Got 'auto' instead.\n",
      "\n",
      "\n",
      "c:\\Users\\mayin\\AppData\\Local\\Programs\\Python\\Python310\\lib\\site-packages\\sklearn\\model_selection\\_search.py:1051: UserWarning:\n",
      "\n",
      "One or more of the test scores are non-finite: [          nan           nan           nan           nan           nan\n",
      "           nan           nan           nan           nan           nan\n",
      "           nan           nan           nan           nan           nan\n",
      "           nan           nan           nan           nan           nan\n",
      "           nan           nan           nan           nan           nan\n",
      "           nan           nan -126.51953012 -122.61160037 -123.53626291\n",
      " -121.20705564 -122.82756099 -121.65393409 -125.46328197 -126.51470817\n",
      " -126.65414052 -112.67780432 -111.96095623 -111.36531046 -113.22190175\n",
      " -112.76939765 -112.58266758 -117.0304881  -116.08782657 -116.56833478\n",
      " -117.85320387 -117.67640886 -117.94567946 -118.67348781 -118.97581206\n",
      " -118.07180994 -118.4794104  -119.45950502 -119.9277621  -124.90361427\n",
      " -122.37582232 -124.60955467 -120.08649297 -120.82279808 -123.63088079\n",
      " -127.6285455  -125.06504629 -127.57389224 -111.14867124 -112.64448126\n",
      " -111.9265658  -112.3000766  -112.04144361 -112.61657263 -117.7317426\n",
      " -115.28720944 -116.50380603 -117.86372343 -117.11930998 -118.08732612\n",
      " -117.79367072 -116.48667017 -117.35770843 -119.88950411 -119.84115683\n",
      " -118.51356665           nan           nan           nan           nan\n",
      "           nan           nan           nan           nan           nan\n",
      "           nan           nan           nan           nan           nan\n",
      "           nan           nan           nan           nan           nan\n",
      "           nan           nan           nan           nan           nan\n",
      "           nan           nan           nan  -98.79584642  -99.83362667\n",
      "  -98.97178986 -100.28000573 -101.13705456 -100.53634272 -108.80073342\n",
      " -109.61532422 -109.19625674 -102.32044263 -102.40201534 -101.39524352\n",
      " -102.77379854 -102.45406116 -103.13698304 -107.50439444 -108.8761658\n",
      " -107.70247541 -111.69790031 -112.90723361 -112.25650454 -112.45772127\n",
      " -111.92237196 -112.24335225 -113.77517076 -113.60604506 -113.06517541\n",
      "  -99.54257859  -99.0110436   -99.91634119 -100.94591204 -100.83903444\n",
      " -101.99201527 -109.30523157 -109.52406359 -108.60124665 -101.42935288\n",
      " -102.36937213 -102.41753389 -102.1969117  -103.15572048 -103.05818608\n",
      " -107.24499946 -107.6262935  -107.63458483 -112.82522691 -113.46306796\n",
      " -112.90803286 -112.2371229  -112.02763286 -112.61566609 -115.58818661\n",
      " -114.27847802 -113.48494681           nan           nan           nan\n",
      "           nan           nan           nan           nan           nan\n",
      "           nan           nan           nan           nan           nan\n",
      "           nan           nan           nan           nan           nan\n",
      "           nan           nan           nan           nan           nan\n",
      "           nan           nan           nan           nan -123.14324085\n",
      " -121.63660883 -122.06172228 -119.31933814 -119.80377208 -122.18370659\n",
      " -125.94896493 -127.76560187 -127.38993955 -112.46453599 -111.53923329\n",
      " -111.39773301 -114.64966547 -110.54918136 -111.12878054 -114.92991147\n",
      " -115.42490281 -116.42718921 -119.4519561  -118.69511648 -118.13924795\n",
      " -118.82953444 -118.34793022 -118.23275987 -117.59440813 -118.96119559\n",
      " -117.92399852 -123.91506582 -124.22554827 -123.51133756 -119.634458\n",
      " -119.94972328 -121.15688758 -127.31502795 -127.46878929 -127.83850114\n",
      " -111.57122637 -110.90568773 -111.6330337  -112.29958427 -111.12545958\n",
      " -112.15646824 -116.08582592 -116.67075002 -116.74169658 -117.72312024\n",
      " -117.31072281 -117.07459332 -118.57226257 -118.9451007  -117.9044562\n",
      " -119.08683191 -117.81199591 -118.76043906           nan           nan\n",
      "           nan           nan           nan           nan           nan\n",
      "           nan           nan           nan           nan           nan\n",
      "           nan           nan           nan           nan           nan\n",
      "           nan           nan           nan           nan           nan\n",
      "           nan           nan           nan           nan           nan\n",
      " -152.43078572 -152.46748129 -151.96411418 -141.83663973 -141.77149972\n",
      " -141.70112547 -147.59760299 -147.27225483 -147.3753703  -119.35031959\n",
      " -118.41517324 -118.20132799 -117.79229273 -117.00963758 -117.68993629\n",
      " -115.56907791 -115.50774705 -115.86506    -120.90271121 -120.31659561\n",
      " -119.1740322  -119.6045537  -120.43848465 -120.08559521 -119.94310749\n",
      " -120.69210251 -121.09562507 -152.39001722 -151.3370949  -151.82283607\n",
      " -141.44716594 -141.39839982 -141.5949899  -146.55379483 -148.01119404\n",
      " -147.84071636 -119.03028447 -118.39613332 -118.38841085 -117.9288252\n",
      " -117.78180478 -117.0439004  -116.43400641 -116.10249465 -115.71361653\n",
      " -120.59325816 -120.52690272 -120.23323913 -118.8923872  -119.17042845\n",
      " -120.02343071 -121.07480416 -119.83521137 -120.34167686           nan\n",
      "           nan           nan           nan           nan           nan\n",
      "           nan           nan           nan           nan           nan\n",
      "           nan           nan           nan           nan           nan\n",
      "           nan           nan           nan           nan           nan\n",
      "           nan           nan           nan           nan           nan\n",
      "           nan -102.2238623  -102.18822096 -102.41334843 -101.28273716\n",
      " -101.85861683 -101.08930555 -108.16087361 -108.34836249 -108.41428708\n",
      " -101.01530198 -100.71480567 -100.41336328 -100.89156649 -100.46378008\n",
      "  -99.9297002  -103.45153454 -103.63333015 -103.22514464 -109.6498305\n",
      " -110.01179425 -109.91551319 -109.22142373 -110.7730117  -109.2659162\n",
      " -110.1960474  -111.03869288 -110.18918675 -102.091979   -101.80783049\n",
      " -102.28292912 -100.91004791 -101.46421256 -100.8943832  -109.05941605\n",
      " -109.04419983 -108.59577142 -100.58294623 -100.24911483 -100.21360904\n",
      " -100.18340576 -100.74462303 -100.27597945 -102.94124145 -103.1912815\n",
      " -103.30355079 -112.10840223 -110.5969406  -109.5790871  -111.46103367\n",
      " -110.25972052 -110.39914699 -111.40933994 -110.70406702 -111.19848606\n",
      "           nan           nan           nan           nan           nan\n",
      "           nan           nan           nan           nan           nan\n",
      "           nan           nan           nan           nan           nan\n",
      "           nan           nan           nan           nan           nan\n",
      "           nan           nan           nan           nan           nan\n",
      "           nan           nan -151.82908068 -151.49019636 -150.83060125\n",
      " -141.51868037 -141.11237906 -140.93985301 -147.26157212 -148.21710626\n",
      " -147.55815812 -118.75060089 -118.1635826  -118.49698928 -117.07612994\n",
      " -116.45358842 -117.04543957 -116.79311311 -115.8441435  -115.75902295\n",
      " -120.96001503 -118.54655957 -119.09726939 -119.54061659 -119.18043588\n",
      " -119.92661138 -121.4121514  -119.92801793 -119.9480174  -151.74680763\n",
      " -150.99506404 -151.27671633 -142.03091688 -141.14069621 -140.98219485\n",
      " -147.79656899 -146.85491358 -146.89269637 -118.8873665  -117.98745854\n",
      " -118.17948222 -116.71046534 -116.70004315 -117.0933342  -116.29739911\n",
      " -115.59700333 -115.8523727  -119.69650038 -119.88173377 -119.40360394\n",
      " -120.78913701 -119.4315852  -120.07263851 -119.87729629 -119.16538949\n",
      " -120.63513485]\n",
      "\n"
     ]
    },
    {
     "name": "stdout",
     "output_type": "stream",
     "text": [
      "Best Random Forest Model: RandomForestRegressor(max_depth=10, max_features='sqrt')\n",
      "Best Parameters: {'bootstrap': True, 'max_depth': 10, 'max_features': 'sqrt', 'min_samples_leaf': 1, 'min_samples_split': 2, 'n_estimators': 100}\n",
      "Mean Squared Error (MSE): 124.74545166556754\n",
      "R^2 Score: 0.6962837887918685\n"
     ]
    }
   ],
   "source": [
    "param_grid_rf = {\n",
    "    'n_estimators': [100, 200, 300],\n",
    "    'max_depth': [None, 10, 20],\n",
    "    'min_samples_split': [2, 5, 10],\n",
    "    'min_samples_leaf': [1, 2, 4],\n",
    "    'max_features': ['auto', 'sqrt', 'log2'],\n",
    "    'bootstrap': [True, False]\n",
    "}\n",
    "\n",
    "grid_search_rf = GridSearchCV(RandomForestRegressor(), param_grid_rf, cv=5, scoring='neg_mean_squared_error')\n",
    "grid_search_rf.fit(X_train_scaled, y_train)\n",
    "\n",
    "best_rf_model = grid_search_rf.best_estimator_\n",
    "print(\"Best Random Forest Model:\", best_rf_model)\n",
    "print(\"Best Parameters:\", grid_search_rf.best_params_)\n",
    "\n",
    "y_pred_rf = best_rf_model.predict(X_test_scaled)\n",
    "mse_rf = mean_squared_error(y_test, y_pred_rf)\n",
    "r2_rf = r2_score(y_test, y_pred_rf)\n",
    "print(\"Mean Squared Error (MSE):\", mse_rf)\n",
    "print(\"R^2 Score:\", r2_rf)"
   ]
  },
  {
   "cell_type": "code",
   "execution_count": null,
   "metadata": {},
   "outputs": [
    {
     "data": {
      "image/png": "[encoded data removed]",
      "text/plain": [
       "<Figure size 1000x500 with 1 Axes>"
      ]
     },
     "metadata": {},
     "output_type": "display_data"
    },
    {
     "data": {
      "image/png": "[encoded data removed]",
      "text/plain": [
       "<Figure size 1000x500 with 1 Axes>"
      ]
     },
     "metadata": {},
     "output_type": "display_data"
    }
   ],
   "source": [
    "import matplotlib.pyplot as plt\n",
    "\n",
    "# Graficar el MSE\n",
    "plt.figure(figsize=(10, 5))\n",
    "plt.bar(model_names, mse_values, color='blue')\n",
    "plt.title('Comparación de MSE entre modelos')\n",
    "plt.xlabel('Modelo')\n",
    "plt.ylabel('Mean Squared Error (MSE)')\n",
    "plt.xticks(rotation=45, ha='right')\n",
    "plt.tight_layout()\n",
    "plt.show()\n",
    "\n",
    "# Graficar el R^2 Score\n",
    "plt.figure(figsize=(10, 5))\n",
    "plt.bar(model_names, r2_values, color='green')\n",
    "plt.title('Comparación de R^2 Score entre modelos')\n",
    "plt.xlabel('Modelo')\n",
    "plt.ylabel('R^2 Score')\n",
    "plt.xticks(rotation=45, ha='right')\n",
    "plt.tight_layout()\n",
    "plt.show()"
   ]
  },
  {
   "cell_type": "code",
   "execution_count": null,
   "metadata": {},
   "outputs": [
    {
     "data": {
      "image/png": "[encoded data removed]",
      "text/plain": [
       "<Figure size 1800x600 with 2 Axes>"
      ]
     },
     "metadata": {},
     "output_type": "display_data"
    }
   ],
   "source": [
    "import matplotlib.pyplot as plt\n",
    "\n",
    "# Crear subplots\n",
    "fig, axs = plt.subplots(1, 2, figsize=(18, 6))\n",
    "\n",
    "# Gráfico para Mean Squared Error (MSE)\n",
    "axs[0].scatter(model_names, mse_values, color='blue')\n",
    "axs[0].set_ylabel('Mean Squared Error (MSE)')\n",
    "axs[0].set_xlabel('Modelo')\n",
    "axs[0].set_title('Comparación de MSE entre modelos')\n",
    "\n",
    "\n",
    "# Gráfico para R^2 Score\n",
    "axs[1].scatter(model_names, r2_values, color='green')\n",
    "axs[1].set_ylabel('R^2 Score')\n",
    "axs[1].set_xlabel('Modelo')\n",
    "axs[1].set_title('Comparación de R^2 entre modelos')\n",
    "\n",
    "\n",
    "plt.tight_layout()\n",
    "plt.show()"
   ]
  },
  {
   "cell_type": "markdown",
   "metadata": {},
   "source": [
    "## Comparision"
   ]
  },
  {
   "cell_type": "markdown",
   "metadata": {},
   "source": [
    "El Mean Squared Error (MSE) es una medida de la calidad de un modelo de regresión. Cuanto menor sea el valor del MSE, mejor será el modelo. En este caso, el MSE es de aproximadamente 50.58, lo que indica que este modelo tiene un error cuadrático medio relativamente bajo en comparación con el conjunto de datos.\n",
    "\n",
    "El R^2 Score es una medida de qué tan bien se ajustan los valores predichos por el modelo a los valores reales. Un R^2 Score más cercano a 1 indica un mejor ajuste del modelo a los datos. En este caso, el R^2 Score es aproximadamente 0.885, lo que sugiere que el modelo explica aproximadamente el 88.5% de la variabilidad de la variable objetivo \"Winnings\", lo cual es un buen ajuste.\n",
    "\n",
    "En resumen, este modelo parece tener un buen rendimiento en la tarea de predicción de las ganancias (Winnings) en comparación con el modelo anterior."
   ]
  },
  {
   "cell_type": "markdown",
   "metadata": {},
   "source": [
    "- En este caso, los resultados d elos modelos son mejores si se usa el dataset normalizado y sin outliers.\n",
    "- Según el MSE, el mejor modelo es RandomForestRegressor, con un MSE de 103.25579714502692, el más bajo de todos los modelos probados\n",
    "- Según el R2, el mejor modelo es de nuevo RandomForestRegressor, con un 0.7486043853667881. Es el que más se acerca a 1 y, por lo tanto, el modelo en que los valores predichos se ajustan más a los valores reales. "
   ]
  },
  {
   "cell_type": "markdown",
   "metadata": {},
   "source": [
    "## Selected model: RandomForestRegressor"
   ]
  },
  {
   "cell_type": "code",
   "execution_count": null,
   "metadata": {},
   "outputs": [
    {
     "name": "stdout",
     "output_type": "stream",
     "text": [
      "Model: RandomForestRegressor\n",
      "Mean Squared Error (MSE): 100.24464845993813\n",
      "R^2 Score: 0.7559355918982399\n",
      "Prediction: [-0.12630402 -0.0489548  -0.13472046 ...  0.6861138  -0.07866828\n",
      " -0.05423477]\n",
      "\n"
     ]
    }
   ],
   "source": [
    "from sklearn.ensemble import RandomForestRegressor\n",
    "import matplotlib.pyplot as plt\n",
    "\n",
    "# Aplicar RandomForestRegressor\n",
    "rf_model = RandomForestRegressor()\n",
    "rf_model.fit(X_train_scaled, y_train)\n",
    "rf_y_pred = rf_model.predict(X_test_scaled)\n",
    "\n",
    "rf_mse = mean_squared_error(y_test, rf_y_pred)\n",
    "rf_r2 = r2_score(y_test, rf_y_pred)\n",
    "\n",
    "# Imprimir resultados\n",
    "print(f\"Model: RandomForestRegressor\")\n",
    "print(f\"Mean Squared Error (MSE): {rf_mse}\")\n",
    "print(f\"R^2 Score: {rf_r2}\")\n",
    "print(f\"Prediction: {rf_y_pred}\")\n",
    "print()"
   ]
  },
  {
   "cell_type": "markdown",
   "metadata": {},
   "source": [
    "## New manual Prediction"
   ]
  },
  {
   "cell_type": "code",
   "execution_count": null,
   "metadata": {},
   "outputs": [
    {
     "data": {
      "text/html": [
       "<div>\n",
       "<style scoped>\n",
       "    .dataframe tbody tr th:only-of-type {\n",
       "        vertical-align: middle;\n",
       "    }\n",
       "\n",
       "    .dataframe tbody tr th {\n",
       "        vertical-align: top;\n",
       "    }\n",
       "\n",
       "    .dataframe thead th {\n",
       "        text-align: right;\n",
       "    }\n",
       "</style>\n",
       "<table border=\"1\" class=\"dataframe\">\n",
       "  <thead>\n",
       "    <tr style=\"text-align: right;\">\n",
       "      <th></th>\n",
       "      <th>count</th>\n",
       "      <th>mean</th>\n",
       "      <th>std</th>\n",
       "      <th>min</th>\n",
       "      <th>25%</th>\n",
       "      <th>50%</th>\n",
       "      <th>75%</th>\n",
       "      <th>max</th>\n",
       "    </tr>\n",
       "  </thead>\n",
       "  <tbody>\n",
       "    <tr>\n",
       "      <th>Winnings</th>\n",
       "      <td>22482.0</td>\n",
       "      <td>2.560486</td>\n",
       "      <td>19.390431</td>\n",
       "      <td>-536.217918</td>\n",
       "      <td>-0.119855</td>\n",
       "      <td>0.027845</td>\n",
       "      <td>0.958535</td>\n",
       "      <td>852.851090</td>\n",
       "    </tr>\n",
       "    <tr>\n",
       "      <th>Wager</th>\n",
       "      <td>22482.0</td>\n",
       "      <td>1.502843</td>\n",
       "      <td>8.368932</td>\n",
       "      <td>-0.156560</td>\n",
       "      <td>-0.129548</td>\n",
       "      <td>-0.025910</td>\n",
       "      <td>0.565601</td>\n",
       "      <td>389.499449</td>\n",
       "    </tr>\n",
       "    <tr>\n",
       "      <th>Purchase_Time_encoded</th>\n",
       "      <td>22482.0</td>\n",
       "      <td>0.673072</td>\n",
       "      <td>0.469101</td>\n",
       "      <td>0.000000</td>\n",
       "      <td>0.000000</td>\n",
       "      <td>1.000000</td>\n",
       "      <td>1.000000</td>\n",
       "      <td>1.000000</td>\n",
       "    </tr>\n",
       "    <tr>\n",
       "      <th>Sport_Group_encoded</th>\n",
       "      <td>22482.0</td>\n",
       "      <td>1.390979</td>\n",
       "      <td>1.176163</td>\n",
       "      <td>0.000000</td>\n",
       "      <td>1.000000</td>\n",
       "      <td>1.000000</td>\n",
       "      <td>1.000000</td>\n",
       "      <td>5.000000</td>\n",
       "    </tr>\n",
       "  </tbody>\n",
       "</table>\n",
       "</div>"
      ],
      "text/plain": [
       "                         count      mean        std         min       25%  \\\n",
       "Winnings               22482.0  2.560486  19.390431 -536.217918 -0.119855   \n",
       "Wager                  22482.0  1.502843   8.368932   -0.156560 -0.129548   \n",
       "Purchase_Time_encoded  22482.0  0.673072   0.469101    0.000000  0.000000   \n",
       "Sport_Group_encoded    22482.0  1.390979   1.176163    0.000000  1.000000   \n",
       "\n",
       "                            50%       75%         max  \n",
       "Winnings               0.027845  0.958535  852.851090  \n",
       "Wager                 -0.025910  0.565601  389.499449  \n",
       "Purchase_Time_encoded  1.000000  1.000000    1.000000  \n",
       "Sport_Group_encoded    1.000000  1.000000    5.000000  "
      ]
     },
     "execution_count": 15,
     "metadata": {},
     "output_type": "execute_result"
    }
   ],
   "source": [
    "selected_columns.describe().T"
   ]
  },
  {
   "cell_type": "markdown",
   "metadata": {},
   "source": [
    "### With created new random data"
   ]
  },
  {
   "cell_type": "code",
   "execution_count": null,
   "metadata": {},
   "outputs": [
    {
     "name": "stdout",
     "output_type": "stream",
     "text": [
      "Nuevas entradas generadas aleatoriamente:\n",
      "[[204.53837186   1.           0.        ]\n",
      " [ 89.85184872   0.           0.        ]\n",
      " [247.08934788   0.           5.        ]\n",
      " [240.08072881   0.           5.        ]\n",
      " [ 94.74731679   1.           5.        ]]\n"
     ]
    }
   ],
   "source": [
    "import numpy as np\n",
    "\n",
    "# Generar nuevas entradas aleatorias\n",
    "new_data = []\n",
    "for _ in range(5):  # Generar 5 nuevas entradas\n",
    "    # Generar valores aleatorios para cada característica en el rango adecuado\n",
    "    wager = np.random.uniform(0.1, 400)   # Valores de Wager en un rango aproximado al proporcionado\n",
    "    purchase_time_encoded = np.random.choice([0, 1])  # Valores binarios para Purchase_Time_encoded\n",
    "    sport_group_encoded = np.random.choice([0, 5])    # Valores binarios para Sport_Group_encoded\n",
    "    \n",
    "    # Agregar la nueva entrada a la lista\n",
    "    new_data.append([wager, purchase_time_encoded, sport_group_encoded])\n",
    "\n",
    "# Convertir la lista de nuevas entradas a un array numpy\n",
    "new_data = np.array(new_data)\n",
    "\n",
    "# Imprimir las nuevas entradas generadas\n",
    "print(\"Nuevas entradas generadas aleatoriamente:\")\n",
    "print(new_data)"
   ]
  },
  {
   "cell_type": "code",
   "execution_count": null,
   "metadata": {},
   "outputs": [
    {
     "name": "stdout",
     "output_type": "stream",
     "text": [
      "Nueva predicción manual:\n",
      "Predicción de Winnings: [369.46589588 207.43512107 535.51318402 533.64118644 170.83645278]\n"
     ]
    },
    {
     "name": "stderr",
     "output_type": "stream",
     "text": [
      "c:\\Users\\mayin\\AppData\\Local\\Programs\\Python\\Python310\\lib\\site-packages\\sklearn\\base.py:493: UserWarning:\n",
      "\n",
      "X does not have valid feature names, but StandardScaler was fitted with feature names\n",
      "\n"
     ]
    }
   ],
   "source": [
    "new_data_scaled = scaler.transform(new_data)\n",
    "\n",
    "# Realizar la predicción usando el modelo RandomForestRegressor\n",
    "prediction = rf_model.predict(new_data_scaled)\n",
    "\n",
    "# Imprimir la predicción\n",
    "print(\"Nueva predicción manual:\")\n",
    "print(\"Predicción de Winnings:\", prediction)"
   ]
  },
  {
   "cell_type": "markdown",
   "metadata": {},
   "source": [
    "### With real data"
   ]
  },
  {
   "cell_type": "code",
   "execution_count": null,
   "metadata": {},
   "outputs": [
    {
     "name": "stdout",
     "output_type": "stream",
     "text": [
      "Predictions:\n",
      "Data 1: 84.01019370460048\n",
      "Data 2: 4.82987366177437\n",
      "Data 3: 1.8403389830508474\n",
      "Data 4: 9.570169491525428\n",
      "Data 5: 30.894092009685224\n",
      "Data 6: 93.64909200968525\n",
      "Data 7: 21.493595641646507\n",
      "Data 8: 364.0512469733656\n",
      "Data 9: 21.52781736423383\n",
      "Data 10: 51.33467312348668\n",
      "Data 11: 0.4972054075867639\n",
      "Data 12: -3.833038764941006\n",
      "Data 13: 15.449213075060541\n",
      "Data 14: 94.00791767554479\n",
      "Data 15: 55.848256658595595\n",
      "Data 16: 0.784049636803874\n",
      "Data 17: 1.300738498789344\n",
      "Data 18: 175.31730024213084\n",
      "Data 19: 1.300738498789344\n",
      "Data 20: 362.09999999999957\n"
     ]
    },
    {
     "name": "stderr",
     "output_type": "stream",
     "text": [
      "c:\\Users\\mayin\\AppData\\Local\\Programs\\Python\\Python310\\lib\\site-packages\\sklearn\\base.py:493: UserWarning:\n",
      "\n",
      "X does not have valid feature names, but StandardScaler was fitted with feature names\n",
      "\n"
     ]
    }
   ],
   "source": [
    "import numpy as np\n",
    "\n",
    "# Datos de entrada para la predicción\n",
    "new_data = np.array([\n",
    "    [42.52, 1, 0],\n",
    "    [2.5, 0, 0],\n",
    "    [1, 1, 0],\n",
    "    [4.33, 1, 0],\n",
    "    [15.33, 1, 1],\n",
    "    [75.65, 1, 1],\n",
    "    [32.17, 0, 1],\n",
    "    [171, 0, 1],\n",
    "    [10, 1, 3],\n",
    "    [23, 1, 3],\n",
    "    [2, 1, 3],\n",
    "    [2.1, 1, 3],\n",
    "    [8.33, 0, 4],\n",
    "    [58.04, 1, 4],\n",
    "    [30, 0, 4],\n",
    "    [0.55, 1, 4],\n",
    "    [0.5, 1, 5],\n",
    "    [100, 0, 5],\n",
    "    [0.5, 1, 5],\n",
    "    [169, 0, 5]\n",
    "])\n",
    "\n",
    "# Escalar los datos de entrada\n",
    "new_data_scaled = scaler.transform(new_data)\n",
    "\n",
    "# Realizar la predicción con el modelo RandomForestRegressor\n",
    "predictions = rf_model.predict(new_data_scaled)\n",
    "\n",
    "# Imprimir las predicciones\n",
    "print(\"Predictions:\")\n",
    "for i, prediction in enumerate(predictions):\n",
    "    print(f\"Data {i+1}: {prediction}\")"
   ]
  },
  {
   "cell_type": "code",
   "execution_count": null,
   "metadata": {},
   "outputs": [
    {
     "name": "stdout",
     "output_type": "stream",
     "text": [
      "Predictions:\n",
      "Sport Group: 5, Purchase Time: 0, Predicted Total Winnings: 2316.9726513317232\n",
      "Sport Group: 0, Purchase Time: 1, Predicted Total Winnings: 6626.68809927361\n"
     ]
    }
   ],
   "source": [
    "# Agrupar los datos originales por deporte y por tiempo de compra, y calcular el total de apuestas y el total de ganancias\n",
    "grouped_data = selected_columns.groupby(['Sport_Group_encoded', 'Purchase_Time_encoded']).agg({'Winnings': 'sum', 'Wager': 'count'}).reset_index()\n",
    "grouped_data.columns = ['Sport_Group_encoded', 'Purchase_Time_encoded', 'Total_Winnings', 'Total_Bets']\n",
    "\n",
    "# Utilizar las características agrupadas para hacer la predicción\n",
    "X_grouped = grouped_data[['Sport_Group_encoded', 'Purchase_Time_encoded', 'Total_Bets']]\n",
    "y_grouped = grouped_data['Total_Winnings']\n",
    "\n",
    "# Dividir los datos en conjuntos de entrenamiento y prueba\n",
    "X_train_grouped, X_test_grouped, y_train_grouped, y_test_grouped = train_test_split(X_grouped, y_grouped, test_size=0.2, random_state=42)\n",
    "\n",
    "# Escalar los datos de características\n",
    "X_train_grouped_scaled = scaler.fit_transform(X_train_grouped)\n",
    "X_test_grouped_scaled = scaler.transform(X_test_grouped)\n",
    "\n",
    "# Entrenar el modelo\n",
    "rf_model.fit(X_train_grouped_scaled, y_train_grouped)\n",
    "\n",
    "# Realizar la predicción con el modelo entrenado\n",
    "predictions_grouped = rf_model.predict(X_test_grouped_scaled)\n",
    "\n",
    "# Imprimir las predicciones agrupadas por deporte y tiempo de compra\n",
    "print(\"Predictions:\")\n",
    "for i, prediction in enumerate(predictions_grouped):\n",
    "    print(f\"Sport Group: {X_test_grouped.iloc[i]['Sport_Group_encoded']}, Purchase Time: {X_test_grouped.iloc[i]['Purchase_Time_encoded']}, Predicted Total Winnings: {prediction}\")"
   ]
  }
 ],
 "metadata": {
  "kernelspec": {
   "display_name": "Python 3",
   "language": "python",
   "name": "python3"
  },
  "language_info": {
   "codemirror_mode": {
    "name": "ipython",
    "version": 3
   },
   "file_extension": ".py",
   "mimetype": "text/x-python",
   "name": "python",
   "nbconvert_exporter": "python",
   "pygments_lexer": "ipython3",
   "version": "3.10.10"
  }
 },
 "nbformat": 4,
 "nbformat_minor": 2
}
